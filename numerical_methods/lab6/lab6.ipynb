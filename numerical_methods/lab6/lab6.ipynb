{
  "cells": [
    {
      "cell_type": "markdown",
      "metadata": {
        "id": "z9nQJysqIiVu"
      },
      "source": [
        "## Лабораторная работа №6\n",
        "### Начально-краевые задачи для дифференциального уравнения гиперболического типа\n",
        "\n",
        "Сорокин Никита, М8О-403Б-20"
      ]
    },
    {
      "cell_type": "markdown",
      "metadata": {},
      "source": [
        "### Задание\n",
        "Используя явную схему крест и неявную схему, решить начально-краевую задачу для дифференциального уравнения гиперболического типа. Осуществить реализацию трех вариантов аппроксимации граничных условий, содержащих производные: двухточечная аппроксимация с первым порядком, трехточечная аппроксимация со вторым порядком, двухточечная аппроксимация со вторым порядком. В различные моменты времени вычислить погрешность численного решения путем сравнения результатов с приведенным в задании аналитическим решением $ U(x, t) $.\n",
        "\n",
        "Вариант 2:\n",
        "\n",
        "$$\n",
        "\\begin{cases}\n",
        "\\frac{\\partial^2 u}{\\partial t^2} = a^2 \\frac{\\partial^2 u}{\\partial x^2}, \\,\\, a^2>0 \\\\\n",
        "u_x(0, t) - u(0, t) = 0  \\\\\n",
        "u_x(\\pi, t) - u(\\pi, t) = 0 \\\\\n",
        "u(x, 0) = sin(x) + cos(x)   \\\\\n",
        "u_t(x, 0) = -a (sin(x) + cos(x))\n",
        "\\end{cases}\n",
        "$$\n",
        "\n",
        "Аналитическое решение: \n",
        "\n",
        "$$\n",
        "U(x, t) = sin(x - at) + cos(x + at)\n",
        "$$"
      ]
    },
    {
      "cell_type": "code",
      "execution_count": 1,
      "metadata": {},
      "outputs": [],
      "source": [
        "import sys \n",
        "sys.path\n",
        "\n",
        "sys.path.insert(0, r\"c:\\Users\\никита\\Desktop\\учеба\\чм\\modules\")"
      ]
    },
    {
      "cell_type": "code",
      "execution_count": 2,
      "metadata": {
        "id": "kp7Yj3pfNZTh"
      },
      "outputs": [],
      "source": [
        "import numpy as np\n",
        "import matplotlib.pyplot as plt\n",
        "import seaborn as sns\n",
        "import time\n",
        "sns.set()\n",
        "\n",
        "%matplotlib inline\n",
        "\n",
        "from LinearAlgebra import *"
      ]
    },
    {
      "cell_type": "code",
      "execution_count": 3,
      "metadata": {
        "id": "c_GFwsmkJEj_"
      },
      "outputs": [
        {
          "data": {
            "text/plain": [
              "0.25"
            ]
          },
          "execution_count": 3,
          "metadata": {},
          "output_type": "execute_result"
        }
      ],
      "source": [
        "a = 1\n",
        "\n",
        "x_begin = 0\n",
        "x_end = np.pi\n",
        "\n",
        "t_begin = 0\n",
        "t_end = 1\n",
        "\n",
        "h = 0.01\n",
        "tau = h / (2 * a)\n",
        "sigma = a**2 * tau**2 / h**2\n",
        "sigma"
      ]
    },
    {
      "cell_type": "code",
      "execution_count": 4,
      "metadata": {},
      "outputs": [
        {
          "data": {
            "text/plain": [
              "True"
            ]
          },
          "execution_count": 4,
          "metadata": {},
          "output_type": "execute_result"
        }
      ],
      "source": [
        "def check_sigma(sigma):\n",
        "    res = True if sigma <= 1 else False\n",
        "    return res\n",
        "\n",
        "check_sigma(sigma)"
      ]
    },
    {
      "cell_type": "markdown",
      "metadata": {},
      "source": [
        "Функция для вычисления погрешности - максимального модуля ошибки"
      ]
    },
    {
      "cell_type": "code",
      "execution_count": 5,
      "metadata": {},
      "outputs": [],
      "source": [
        "def max_abs_error(A, B):\n",
        "    assert A.shape == B.shape\n",
        "    return abs(A - B).max()"
      ]
    },
    {
      "cell_type": "markdown",
      "metadata": {},
      "source": [
        "И среднего модуля ошибки:"
      ]
    },
    {
      "cell_type": "code",
      "execution_count": 6,
      "metadata": {},
      "outputs": [],
      "source": [
        "def mean_abs_error(A, B):\n",
        "    assert A.shape == B.shape\n",
        "    return abs(A - B).mean()"
      ]
    },
    {
      "cell_type": "code",
      "execution_count": 7,
      "metadata": {
        "id": "lxyT4fkhNStT"
      },
      "outputs": [],
      "source": [
        "def solution(x, t, a=1):\n",
        "    u = np.sin(x - a * t) + np.cos(x + a * t)\n",
        "    return u \n",
        "\n",
        "def phi_0(t, a=1):\n",
        "    return 0\n",
        "\n",
        "def phi_1(t, a=1):\n",
        "    return 1\n",
        "    \n",
        "def psi_1(x, a=1):\n",
        "    return np.sin(x) + np.cos(x)\n",
        "\n",
        "def psi_2(x, a=1):\n",
        "    return -a * (np.sin(x) + np.cos(x))\n",
        "\n",
        "def dd_psi_1(x, a=1):\n",
        "    return - (np.sin(x) + np.cos(x))"
      ]
    },
    {
      "cell_type": "markdown",
      "metadata": {},
      "source": [
        "### Начальные условия\n",
        "\n",
        "$$\n",
        "u_j^0 = \\psi_1(x_j), \\,\\, j = \\overline{0, N}\n",
        "$$"
      ]
    },
    {
      "cell_type": "markdown",
      "metadata": {},
      "source": [
        "### 1 порядок\n",
        "\n",
        "$$\n",
        "\\frac{u_j^1 - u_j^0}{\\tau} = \\psi_2(x_j), \\\\[6pt]\n",
        "u_j^1 = \\psi_1(x_j) + \\psi_2(x_j) \\tau, \\, j = \\overline{0, N}\n",
        "$$"
      ]
    },
    {
      "cell_type": "markdown",
      "metadata": {},
      "source": [
        "### 2 порядок\n",
        "\n",
        "$$\n",
        "\n",
        "u_j^1 = u(x_j, 0 + \\tau) = u_j^0+ \\frac{\\partial u}{\\partial t} \\Big|_j^0 \\tau + \\frac{\\partial^2 u}{\\partial t^2} \\Big|_j^0 \\frac{\\tau^2}{2} + O(\\tau^3), \\\\[8pt]\n",
        "\n",
        "\\frac{\\partial^2 u}{\\partial t^2} \\Big|_{j}^{0} = a^2 \\frac{\\partial^2 u}{\\partial x^2} \\Big|_{j}^{0} = a^2 \\psi_1''(x_j), \\\\[8pt]\n",
        "\n",
        "u_j^1 = \\psi_1(x_j) + \\psi_2(x_j) \\tau + \\frac{a^2 \\tau^2}{2} \\psi_1''(x_j)\n",
        "$$"
      ]
    },
    {
      "cell_type": "code",
      "execution_count": 8,
      "metadata": {},
      "outputs": [],
      "source": [
        "def get_initial_values(x_begin, x_end, h, tau, psi_1, psi_2, dd_psi_2, order):\n",
        "\n",
        "    x = np.arange(x_begin, x_end + h, h)\n",
        "    u = np.zeros((2, x.size))\n",
        "\n",
        "    u[0, :] = psi_1(x)\n",
        "\n",
        "    if order == 1:\n",
        "        u[1, :] = psi_1(x) + psi_2(x) * tau\n",
        "\n",
        "    if order == 2:\n",
        "        u[1, :] = psi_1(x) + psi_2(x) * tau + a**2 * tau**2 * dd_psi_1(x) / 2\n",
        "\n",
        "    return u"
      ]
    },
    {
      "cell_type": "markdown",
      "metadata": {},
      "source": [
        "### Граничные условия"
      ]
    },
    {
      "cell_type": "markdown",
      "metadata": {},
      "source": [
        "###  2 точки, 1 порядок\n",
        "\n",
        "$$\n",
        "\\phi_0(t^{k + 1}) = \\frac{u_1^{k + 1} - u_0^{k + 1}}{h} - u_0^{k + 1} = 0 \\\\[6pt]\n",
        "u_0^{k + 1} = \\frac{u_1^{k + 1}}{1 + h}\n",
        "$$\n",
        "\n",
        "Аналогично получается:\n",
        "\n",
        "$$\n",
        "u_N^{k + 1} = \\frac{u_{N - 1}^{k + 1}}{1 - h}\n",
        "$$"
      ]
    },
    {
      "cell_type": "markdown",
      "metadata": {},
      "source": [
        "###  3 точки, 2 порядок\n",
        "\n",
        "$$\n",
        "\\phi_0(t^{k + 1}) = \\frac{-3 u_0^{k + 1} + 4 u_1^{k + 1} - u_2^{k + 1}}{h} - u_0^{k + 1} = 0 \\\\[6pt]\n",
        "u_0^{k + 1} = \\frac{-4 u_1^{k + 1} + u_2^{k + 1}}{-3 - 2h}\n",
        "$$\n",
        "\n",
        "Аналогично получается:\n",
        "\n",
        "$$\n",
        "u_N^{k + 1} = \\frac{-u_{N - 2}^{k + 1} + 4 u_{N - 1}^{k + 1}}{3 - 2h}\n",
        "$$"
      ]
    },
    {
      "cell_type": "markdown",
      "metadata": {},
      "source": [
        "\n",
        "###  2 точки, 2 порядок\n",
        "\n",
        "$$\n",
        "u_1^{k + 1} = u(0 + h, t^{k + 1}) = u_0^{k + 1} + \\frac{\\partial u}{\\partial x} \\Big|_0^{k + 1} h + \\frac{\\partial^2 u}{\\partial x^2} \\Big|_0^{k + 1} \\frac{h^2}{2} + O(h^3) \\\\[8pt]\n",
        "\n",
        "\\frac{\\partial^2 u}{\\partial x^2} \\Big|_{0, \\, N}^{k + 1} = \\frac{1}{a^2} \\frac{\\partial^2 u}{\\partial t^2} \\Big|_{0, \\, N}^{k + 1} \\\\[8pt]\n",
        "\n",
        "\\frac{\\partial u}{\\partial x} \\Big|_0^{k + 1} = \\frac{u_1^{k + 1} - u_0^{k + 1}}{h} - \\frac{h}{2 a^2} \\frac{u_0^{k + 1} - 2u_0^{k} + u_0^{k - 1}}{\\tau^2} \\\\[8pt]\n",
        "\n",
        "u_0^{k + 1} = \\frac{u_1^{k + 1} + \\frac{1}{\\sigma} u_0^k - \\frac{1}{2 \\sigma} u_0^{k - 1}}{1 + h + 1 / 2\\sigma}\n",
        "\n",
        "$$\n",
        "\n",
        "Аналогично получается:\n",
        "\n",
        "$$\n",
        "u_N^{k + 1} = \\frac{u_{N - 1}^{k + 1} + \\frac{1}{\\sigma} u_N^k - \\frac{1}{2 \\sigma} u_N^{k - 1}}{1 - h + 1 / 2\\sigma}\n",
        "$$"
      ]
    },
    {
      "cell_type": "code",
      "execution_count": 10,
      "metadata": {},
      "outputs": [],
      "source": [
        "def get_boundary_values(u, h, sigma, type):\n",
        "\n",
        "    if type == (2, 1):\n",
        "        u_0 = u[-1, 1] / (1 + h)\n",
        "        u_N = u[-1, -2] / (1 - h)\n",
        "\n",
        "    if type == (3, 2):\n",
        "        u_0 = (-4 * u[-1, 1] + u[-1, 2]) / (-3 - 2 * h)\n",
        "        u_N = (-u[-1, -3] + 4 * u[-1, -2]) / (3 - 2 * h)\n",
        "\n",
        "    if type == (2, 2):\n",
        "        u_0 = (u[-1, 1] + u[-2, 0] / sigma - u[-3, 0] / (2 * sigma)) / (1 + h + 1 / (2 * sigma))\n",
        "        u_N = (u[-1, -2] + u[-2, -1] / sigma - u[-3, -1] / (2 * sigma)) / (1 - h + 1 / (2 * sigma))\n",
        "\n",
        "    return u_0, u_N"
      ]
    },
    {
      "cell_type": "code",
      "execution_count": 11,
      "metadata": {},
      "outputs": [],
      "source": [
        "def get_boundary_coefficients(u, h, sigma, type):\n",
        "\n",
        "    A = np.zeros((2, 2))\n",
        "    b = np.zeros(2)\n",
        "\n",
        "    if type == (2, 1):\n",
        "\n",
        "        A[0, 0] = (1 + 2 * sigma - sigma / (1 + h))\n",
        "        A[0, 1] = -sigma\n",
        "        A[-1, -2] = -sigma\n",
        "        A[-1, -1] = (1 + 2 * sigma - sigma / (1 - h))\n",
        "        b[0] = 2 * u[-1, 1] - u[-2, 1]\n",
        "        b[-1] = 2 * u[-1, -2] - u[-2, -2]\n",
        "\n",
        "    if type == (3, 2):\n",
        "        \n",
        "        A[0, 0] = (-3 - 2 * h) * (1 + 2 * sigma) + 4 * sigma\n",
        "        A[0, 1] = -sigma + (3 + 2 * h) * sigma\n",
        "        A[-1, -2] = -(3 - 2 * h) * sigma + sigma\n",
        "        A[-1, -1] = (3 - 2 * h) * (1 + 2 * sigma) - 4 * sigma\n",
        "        b[0] = (-3 - 2 * h) * (2 * u[-1, 1] - u[-2, 1])\n",
        "        b[-1] = (3 - 2 * h) * (2 * u[-1, -2] - u[-2, -2])\n",
        "\n",
        "    if type == (2, 2):\n",
        "\n",
        "        A[0, 0] = (1 + 2 * sigma) * (1 + h + 1 / (2 * sigma)) - sigma\n",
        "        A[0, 1] = -sigma * (1 + h + 1 / (2 * sigma))\n",
        "        A[-1, -2] = -sigma * (1 - h + 1 / (2 * sigma))\n",
        "        A[-1, -1] = (1 + 2 * sigma) * (1 - h + 1 / (2 * sigma)) - sigma\n",
        "        b[0] = (1 + h + 1 / (2 * sigma)) * (2 * u[-1, 1] - u[-2, 1]) + u[-1, 0] - u[-2, 0] / 2\n",
        "        b[-1] = (1 - h + 1 / (2 * sigma)) * (2 * u[-1, -2] - u[-2, -2]) + u[-1, -1] - u[-2, -1] / 2\n",
        "\n",
        "\n",
        "    return A[0, 0], A[0, 1], A[-1, -2], A[-1, -1], b[0], b[-1]"
      ]
    },
    {
      "cell_type": "markdown",
      "metadata": {},
      "source": [
        "### Точное решение"
      ]
    },
    {
      "cell_type": "markdown",
      "metadata": {
        "id": "kwqQubAwQwxh"
      },
      "source": [
        "\n",
        "Дано по условию:"
      ]
    },
    {
      "cell_type": "code",
      "execution_count": 12,
      "metadata": {
        "id": "O0QVaqQPQ3EC"
      },
      "outputs": [],
      "source": [
        "def get_analytical_solution(x_begin, x_end, t_begin, t_end, h, tau, a):\n",
        "\n",
        "    x = np.arange(x_begin, x_end + h, h)\n",
        "    t = np.arange(t_begin, t_end + tau, tau)\n",
        "\n",
        "    u = np.zeros((t.size, x.size))\n",
        "    for j in range(x.size):\n",
        "        for k in range(t.size):\n",
        "            u[k, j] = solution(x[j], t[k], a)\n",
        "    \n",
        "    return u"
      ]
    },
    {
      "cell_type": "code",
      "execution_count": 13,
      "metadata": {
        "id": "U_7zPEDIR8nL"
      },
      "outputs": [],
      "source": [
        "u_exact = get_analytical_solution(x_begin, x_end, t_begin, t_end, h, tau, a)"
      ]
    },
    {
      "cell_type": "markdown",
      "metadata": {},
      "source": [
        "### Явная схема"
      ]
    },
    {
      "cell_type": "markdown",
      "metadata": {
        "id": "mcepzazXOtyX"
      },
      "source": [
        "\n",
        "$$\n",
        "\\frac{\\mathit{u}_{\\mathit{j}}^{k+1}-2\\mathit{u}_{\\mathit{j}}^{k} + u_{j}^{k-1}}{\\tau^2}\n",
        " = \n",
        "a^{2} \\frac{ {\\mathit{u}_{\\mathit{j+1}}^{k}-2\\mathit{u}_{\\mathit{j}}^{k}+u}_{j-1}^{k}}{h^{2}}+O\\! \\left(h^{2}+\\tau^{2} \\right)\n",
        "\n",
        "$$\n",
        "\n",
        "Выразим $ u_j^{k+1} $ и получим:\n",
        "\n",
        "$$ u_j^{k+1} = \\sigma u_{j-1}^k + 2(1-\\sigma)u_j^k + \\sigma u_{j+1}^k - u_{j}^{k - 1} $$\n",
        "\n",
        "\n",
        "где $ \\sigma = \\frac{a\\tau^2}{h^2}$"
      ]
    },
    {
      "cell_type": "code",
      "execution_count": 14,
      "metadata": {
        "id": "c5WHEqWHp-P2"
      },
      "outputs": [],
      "source": [
        "def explicit_scheme(x_begin, x_end, t_begin, t_end, h, tau, a, psi_1, psi_2, dd_psi_2, order, type):\n",
        "\n",
        "    sigma = a**2 * tau**2 / h**2\n",
        "    x = np.arange(x_begin, x_end + h, h)\n",
        "    t = np.arange(t_begin, t_end + tau, tau)\n",
        "    u = np.zeros((t.size, x.size))\n",
        "\n",
        "    u[0:2, :] = get_initial_values(x_begin, x_end, h, tau, psi_1, psi_2, dd_psi_2, order)\n",
        "\n",
        "    for k in range(1, t.size - 1):\n",
        "\n",
        "        u[k + 1, 1:-1] = sigma * u[k, 0:-2] + 2 * (1 - sigma) * u[k, 1:-1] + sigma * u[k, 2:] - u[k - 1, 1:-1]\n",
        "        u[k + 1, 0], u[k + 1, -1] = get_boundary_values(u[k - 1:k + 2, :], h, sigma, type)\n",
        "            \n",
        "    return u"
      ]
    },
    {
      "cell_type": "code",
      "execution_count": 16,
      "metadata": {},
      "outputs": [
        {
          "data": {
            "text/plain": [
              "<matplotlib.legend.Legend at 0x200a3105290>"
            ]
          },
          "execution_count": 16,
          "metadata": {},
          "output_type": "execute_result"
        },
        {
          "data": {
            "image/png": "[encoded data removed]",
            "text/plain": [
              "<Figure size 1000x600 with 1 Axes>"
            ]
          },
          "metadata": {},
          "output_type": "display_data"
        }
      ],
      "source": [
        "order = 2\n",
        "type = (2, 2)\n",
        "\n",
        "u_explicit = explicit_scheme(x_begin, x_end, t_begin, t_end, h, tau, a, psi_1, psi_2, dd_psi_1, order, type)\n",
        "\n",
        "x = np.arange(x_begin, x_end + h, h)\n",
        "t = np.arange(t_begin, t_end + tau, tau)\n",
        "\n",
        "fig, axs = plt.subplots(figsize=(10, 6))\n",
        "\n",
        "i = -1\n",
        "line1, = axs.plot(x, u_explicit[i, :], label=\"explicit scheme\")\n",
        "line3, = axs.plot(x, u_exact[i, :], label=\"exact solution\")\n",
        "\n",
        "plt.ylim(-2, 2)\n",
        "plt.legend()"
      ]
    },
    {
      "cell_type": "markdown",
      "metadata": {},
      "source": [
        "\n",
        "### Неявная схема"
      ]
    },
    {
      "cell_type": "markdown",
      "metadata": {
        "id": "j4bXGL_GXP6i"
      },
      "source": [
        "\n",
        "$$\n",
        "\\frac{\\mathit{u}_{\\mathit{j}}^{k+1}-2\\mathit{u}_{\\mathit{j}}^{k} + u_{j}^{k-1}}{\\tau^2}\n",
        " = \n",
        "a^{2} \\frac{ {\\mathit{u}_{\\mathit{j+1}}^{k+1}-2\\mathit{u}_{\\mathit{j}}^{k+1}+u}_{j-1}^{k+1}}{h^{2}}+O\\! \\left(h^{2}+\\tau^2 \\right)\n",
        "\n",
        "$$\n",
        "\n",
        "Выражаем $ u_{j}^{k + 1} $ и получаем СЛАУ для трехдиагональной матрицы, которую можно решать методом прогонки написанным ранее:\n",
        "\n",
        "$$\n",
        "\n",
        "\\begin{equation*}\n",
        " \\begin{cases}\n",
        "   b_1u_1^{k+1}+c_1u_2^{k+1}=d_1, ~~~j=1, \n",
        "   \\\\\n",
        "   a_ju_{j-1}^{k+1}+b_ju_j^{k+1}+c_ju_{j+1}^{k+1}=d_j, ~~~j=2\\dots N-2,\n",
        "   \\\\\n",
        "   a_{N-1}u_{N-2}^{k+1}+b_{N-1}u_{N-1}^{k+1}=d_{N-1}, ~~~j=N-1.\n",
        " \\end{cases}\n",
        "\\end{equation*}\n",
        "\n",
        "$$\n",
        "\n",
        "$$ \n",
        "\\begin{align}\n",
        "a_j &=c_j= -\\sigma \\\\\n",
        "b_j &= 1 + 2\\sigma \\\\\n",
        "d_j &= 2 u_j^k - u_j^{k - 1}, \\,\\, j=2 \\dots N-2 \\\\\n",
        "\\end{align}\n",
        "$$\n"
      ]
    },
    {
      "cell_type": "code",
      "execution_count": 17,
      "metadata": {
        "id": "ouTWkDBFiaJ3"
      },
      "outputs": [],
      "source": [
        "def implicit_scheme(x_begin, x_end, t_begin, t_end, h, tau, a, psi_1, psi_2, dd_psi_1, order, type):\n",
        "\n",
        "    sigma = a**2 * tau**2 / h**2\n",
        "    x = np.arange(x_begin, x_end + h, h)\n",
        "    t = np.arange(t_begin, t_end + tau, tau)\n",
        "    u = np.zeros((t.size, x.size))\n",
        "\n",
        "    u[0:2, :] = get_initial_values(x_begin, x_end, h, tau, psi_1, psi_2, dd_psi_1, order)\n",
        "\n",
        "    for k in range(1, t.size - 1):\n",
        "        \n",
        "        A = np.zeros((x.size - 2, x.size - 2))\n",
        "\n",
        "        for i in range(1, (x.size - 2) - 1):\n",
        "            A[i, i - 1] = -sigma\n",
        "            A[i, i] = 1 + 2 * sigma\n",
        "            A[i, i + 1] = -sigma\n",
        "        \n",
        "        b = np.zeros(x.size - 2)\n",
        "        b[1:-1] = 2 * u[k, 2:-2]  - u[k - 1, 2:-2]\n",
        "\n",
        "        A[0, 0], A[0, 1], A[-1, -2], A[-1, -1], b[0], b[-1] = get_boundary_coefficients(u[k - 1: k + 1, :], h, sigma, type)\n",
        "\n",
        "        u[k + 1, 1:-1] = sweep_method(A, b)\n",
        "        u[k + 1, 0], u[k + 1, -1] = get_boundary_values(u[k - 1:k + 2, :], h, sigma, type)\n",
        "\n",
        "    return u"
      ]
    },
    {
      "cell_type": "code",
      "execution_count": 18,
      "metadata": {
        "id": "CmfqBS6tGfJc"
      },
      "outputs": [],
      "source": [
        "order = 2 \n",
        "type = (2, 2)\n",
        "\n",
        "u_implicit = implicit_scheme(x_begin, x_end, t_begin, t_end, h, tau, a, psi_1, psi_2, dd_psi_1, order, type)"
      ]
    },
    {
      "cell_type": "code",
      "execution_count": 19,
      "metadata": {},
      "outputs": [
        {
          "data": {
            "text/plain": [
              "<matplotlib.legend.Legend at 0x200a3112450>"
            ]
          },
          "execution_count": 19,
          "metadata": {},
          "output_type": "execute_result"
        },
        {
          "data": {
            "image/png": "[encoded data removed]",
            "text/plain": [
              "<Figure size 1000x600 with 1 Axes>"
            ]
          },
          "metadata": {},
          "output_type": "display_data"
        }
      ],
      "source": [
        "x = np.arange(x_begin, x_end + h, h)\n",
        "t = np.arange(t_begin, t_end + tau, tau)\n",
        "\n",
        "fig, axs = plt.subplots(figsize=(10, 6))\n",
        "\n",
        "i = -1\n",
        "line1, = axs.plot(x, u_implicit[i, :], label=\"implicit scheme\")\n",
        "line3, = axs.plot(x, u_exact[i, :], label=\"exact solution\")\n",
        "\n",
        "plt.ylim(-2, 2)\n",
        "plt.legend()"
      ]
    },
    {
      "cell_type": "markdown",
      "metadata": {
        "id": "70g7ajfvoKEf"
      },
      "source": [
        "### Полученные результаты\n"
      ]
    },
    {
      "cell_type": "code",
      "execution_count": 20,
      "metadata": {},
      "outputs": [],
      "source": [
        "def print_errors(method):\n",
        "\n",
        "    params = {\n",
        "        'order': [1, 2],\n",
        "        'type': [(2, 1), (3, 2), (2, 2)]\n",
        "    }\n",
        "\n",
        "    for order in params['order']:\n",
        "        for i, type in zip(range(3), params['type']):\n",
        "            if method == 'explicit':\n",
        "                u = explicit_scheme(x_begin, x_end, t_begin, t_end, h, tau, a, psi_1, psi_2, dd_psi_1, order, type)\n",
        "            if method == 'implicit':\n",
        "                u = implicit_scheme(x_begin, x_end, t_begin, t_end, h, tau, a, psi_1, psi_2, dd_psi_1, order, type)\n",
        "            print(f\"order: {order}, type: {params['type'][(i + 1) % 3]}\")\n",
        "            print(f\"mean abs error = {mean_abs_error(u_exact, u)}\")\n",
        "            print(f\"max abs error = {max_abs_error(u_exact, u)} \\n\")"
      ]
    },
    {
      "cell_type": "code",
      "execution_count": 21,
      "metadata": {},
      "outputs": [
        {
          "name": "stdout",
          "output_type": "stream",
          "text": [
            "order: 1, type: (3, 2)\n",
            "mean abs error = 0.0014848953460146353\n",
            "max abs error = 0.011939871435103666 \n",
            "\n",
            "order: 1, type: (2, 2)\n",
            "mean abs error = 0.0018608466006349474\n",
            "max abs error = 0.015929381202457682 \n",
            "\n",
            "order: 1, type: (2, 1)\n",
            "mean abs error = 0.0018650209818401368\n",
            "max abs error = 0.0160241682779958 \n",
            "\n",
            "order: 2, type: (3, 2)\n",
            "mean abs error = 0.0007386862590550672\n",
            "max abs error = 0.009798512522318725 \n",
            "\n",
            "order: 2, type: (2, 2)\n",
            "mean abs error = 0.0008288608888675565\n",
            "max abs error = 0.013780041605109539 \n",
            "\n",
            "order: 2, type: (2, 1)\n",
            "mean abs error = 0.0008330797177552054\n",
            "max abs error = 0.013874844087588822 \n",
            "\n"
          ]
        }
      ],
      "source": [
        "print_errors('explicit')"
      ]
    },
    {
      "cell_type": "code",
      "execution_count": 23,
      "metadata": {},
      "outputs": [
        {
          "name": "stdout",
          "output_type": "stream",
          "text": [
            "order: 1, type: (3, 2)\n",
            "mean abs error = 0.0023362301402059553\n",
            "max abs error = 0.014878776429625207 \n",
            "\n",
            "order: 1, type: (2, 2)\n",
            "mean abs error = 0.0027197723046961343\n",
            "max abs error = 0.018897905427790018 \n",
            "\n",
            "order: 1, type: (2, 1)\n",
            "mean abs error = 0.002720501663077587\n",
            "max abs error = 0.018938232601557747 \n",
            "\n",
            "order: 2, type: (3, 2)\n",
            "mean abs error = 0.001333766152520951\n",
            "max abs error = 0.012742526207755234 \n",
            "\n",
            "order: 2, type: (2, 2)\n",
            "mean abs error = 0.0016879524734827798\n",
            "max abs error = 0.01675361224208144 \n",
            "\n",
            "order: 2, type: (2, 1)\n",
            "mean abs error = 0.0016886703486353447\n",
            "max abs error = 0.016793864953648596 \n",
            "\n"
          ]
        }
      ],
      "source": [
        "print_errors('implicit')"
      ]
    },
    {
      "cell_type": "markdown",
      "metadata": {},
      "source": [
        "## Вывод\n",
        "\n",
        "В данной работе я научился решать начально-краевые задачи для ДУ гиперболического типа двумя способами:\n",
        "* с помощью явной конечно-разностной схемы\n",
        "* с помощью неявной конечно-разностной схемы\n",
        "\n",
        "С помощью каждого метода получилось решить заданное ДУ с приемлемой точностью.\n",
        "\n",
        "Явная конечно-разностная схема легко считается, но она условно устойчива, следовательно результат получится правдивый не при любых параметрах сетки.\n",
        "\n",
        "Неявная конечно-разностная схема считается более сложным образом, но зато она абсолютно устойчива"
      ]
    }
  ],
  "metadata": {
    "colab": {
      "provenance": []
    },
    "kernelspec": {
      "display_name": "Python 3.9.4 64-bit",
      "language": "python",
      "name": "python3"
    },
    "language_info": {
      "codemirror_mode": {
        "name": "ipython",
        "version": 3
      },
      "file_extension": ".py",
      "mimetype": "text/x-python",
      "name": "python",
      "nbconvert_exporter": "python",
      "pygments_lexer": "ipython3",
      "version": "3.11.1"
    },
    "vscode": {
      "interpreter": {
        "hash": "dd426dfed99da6cb3eeddada32cbe22393fcbce2a3b224045159bf9f02b27406"
      }
    }
  },
  "nbformat": 4,
  "nbformat_minor": 0
}
