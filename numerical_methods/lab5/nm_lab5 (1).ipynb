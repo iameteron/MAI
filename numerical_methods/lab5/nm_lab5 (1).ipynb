{
  "cells": [
    {
      "cell_type": "markdown",
      "metadata": {
        "id": "z9nQJysqIiVu"
      },
      "source": [
        "# Лабораторная работа 5\n",
        "## Начально-краевые задачи для дифференциального уравнения параболического типа\n",
        "\n",
        "Моисеенков И.П., М8О-408Б-19"
      ]
    },
    {
      "cell_type": "markdown",
      "metadata": {
        "id": "3gzv2gdtJGdU"
      },
      "source": [
        "### Задание\n",
        "Используя явную и неявную конечно-разностные схемы, а также схему Кранка - Николсона, решить начально-краевую задачу для дифференциального уравнения параболического типа. Осуществить реализацию трех вариантов аппроксимации граничных условий, содержащих производные: двухточечная аппроксимация с первым порядком, трехточечная аппроксимация со вторым порядком, двухточечная аппроксимация со вторым порядком. В различные моменты времени вычислить погрешность численного решения путем сравнения результатов с приведенным в задании аналитическим решением U(x, t).\n",
        "\n",
        "Вариант 3.\n",
        "\n",
        "$\\large\\frac{\\partial u}{\\partial t} = a \\frac{\\partial^2 u}{\\partial x^2}$\n",
        "\n",
        "$a > 0$\n",
        "\n",
        "$u(0, t) = e^{-at}$\n",
        "\n",
        "$u(\\pi, t) = -e^{-at}$\n",
        "\n",
        "$u(x, 0) = cos(x)$\n",
        "\n",
        "Аналитическое решение: $U(x, t) = e^{-at}cos(x)$"
      ]
    },
    {
      "cell_type": "code",
      "execution_count": 13,
      "metadata": {
        "id": "kp7Yj3pfNZTh"
      },
      "outputs": [],
      "source": [
        "import math\n",
        "import numpy as np\n",
        "import matplotlib.pyplot as plt"
      ]
    },
    {
      "cell_type": "code",
      "execution_count": 14,
      "metadata": {
        "id": "c_GFwsmkJEj_"
      },
      "outputs": [],
      "source": [
        "a = 1\n",
        "\n",
        "x_begin = 0\n",
        "x_end = math.pi\n",
        "\n",
        "t_begin = 0\n",
        "t_end = 5\n",
        "\n",
        "h = 0.1\n",
        "sigma = 0.45"
      ]
    },
    {
      "cell_type": "markdown",
      "metadata": {
        "id": "JSa26Fr8NUd0"
      },
      "source": [
        "Начальные условия:"
      ]
    },
    {
      "cell_type": "code",
      "execution_count": 15,
      "metadata": {
        "id": "lxyT4fkhNStT"
      },
      "outputs": [],
      "source": [
        "# boundary conditions\n",
        "def phi_0(t, a=a):\n",
        "    return math.exp(-a * t)\n",
        "\n",
        "def phi_1(t, a=a):\n",
        "    return -math.exp(-a * t)\n",
        "\n",
        "# initial condition\n",
        "def psi(x):\n",
        "    return math.cos(x)\n",
        "\n",
        "def solution(x, t, a=a):\n",
        "    return math.exp(-a * t) * math.cos(x)"
      ]
    },
    {
      "cell_type": "markdown",
      "metadata": {
        "id": "kwqQubAwQwxh"
      },
      "source": [
        "## Аналитическое решение\n",
        "\n",
        "Подготовим ответ, полученный аналитическим способом. С ним будем сравнивать численные методы"
      ]
    },
    {
      "cell_type": "code",
      "execution_count": 16,
      "metadata": {
        "id": "O0QVaqQPQ3EC"
      },
      "outputs": [],
      "source": [
        "def get_analytical_solution(\n",
        "    x_range, # (x_begin, x_end)\n",
        "    t_range, # (t_begin, t_end)\n",
        "    h=h, # len of cell by x\n",
        "    sigma=sigma, # coefficient sigma\n",
        "    a=a, # coefficient a\n",
        "):\n",
        "    \"\"\"\n",
        "    Get analytical solution of parabolic DE\n",
        "    Returns matrix U with values of function\n",
        "    \"\"\"\n",
        "    tau = sigma * h**2 / a # len of cell by t\n",
        "    x = np.arange(*x_range, h)\n",
        "    t = np.arange(*t_range, tau)\n",
        "\n",
        "    res = np.zeros((len(t), len(x)))\n",
        "    for idx in range(len(x)):\n",
        "        for idt in range(len(t)):\n",
        "            res[idt][idx] = solution(x[idx], t[idt], a)\n",
        "    \n",
        "    return res"
      ]
    },
    {
      "cell_type": "code",
      "execution_count": 17,
      "metadata": {
        "id": "U_7zPEDIR8nL"
      },
      "outputs": [],
      "source": [
        "analytical_solution = get_analytical_solution(\n",
        "    x_range=(x_begin, x_end),\n",
        "    t_range=(t_begin, t_end),\n",
        "    h=h,\n",
        "    sigma=sigma,\n",
        "    a=a,\n",
        ")"
      ]
    },
    {
      "cell_type": "markdown",
      "metadata": {
        "id": "klweoZR7ijEr"
      },
      "source": [
        "Будем складывать все решения в словарь, чтобы потом удобнее было строить графики"
      ]
    },
    {
      "cell_type": "code",
      "execution_count": 18,
      "metadata": {
        "id": "3A3U5Xqvifep"
      },
      "outputs": [],
      "source": [
        "solutions = dict()\n",
        "solutions[\"analytical solution\"] = analytical_solution"
      ]
    },
    {
      "cell_type": "markdown",
      "metadata": {
        "id": "A9Z9L8kIWKXk"
      },
      "source": [
        "Функция для вычисления погрешности - максимального модуля ошибки"
      ]
    },
    {
      "cell_type": "code",
      "execution_count": 19,
      "metadata": {
        "id": "isvaF9lOWQ4v"
      },
      "outputs": [],
      "source": [
        "def max_abs_error(A, B):\n",
        "    \"\"\"\n",
        "    Calculate max absolute error of elements of matrices A and B\n",
        "    \"\"\"\n",
        "    assert A.shape == B.shape\n",
        "    return abs(A - B).max()"
      ]
    },
    {
      "cell_type": "markdown",
      "metadata": {
        "id": "PU9XqEndrGZb"
      },
      "source": [
        "И среднего модуля ошибки:"
      ]
    },
    {
      "cell_type": "code",
      "execution_count": 20,
      "metadata": {
        "id": "dGOJdMqcrIg9"
      },
      "outputs": [],
      "source": [
        "def mean_abs_error(A, B):\n",
        "    \"\"\"\n",
        "    Calculate mean absolute error of elements of matrices A and B\n",
        "    \"\"\"\n",
        "    assert A.shape == B.shape\n",
        "    return abs(A - B).mean()"
      ]
    },
    {
      "cell_type": "markdown",
      "metadata": {
        "id": "sI5s3tfqXrVH"
      },
      "source": [
        "Функция для построения результата - функций U(x), полученных разыми методами, при заданном времени t."
      ]
    },
    {
      "cell_type": "code",
      "execution_count": 21,
      "metadata": {
        "id": "6VgdruQkX0mW"
      },
      "outputs": [],
      "source": [
        "def plot_results(\n",
        "    solutions, # dict: solutions[method name] = solution\n",
        "    time, # moment of time\n",
        "    x_range, # (x_begin, x_end)\n",
        "    t_range, # (t_bein, t_end)\n",
        "    h, # len of cell by x\n",
        "    sigma, # coefficient sigma\n",
        "):\n",
        "    tau = sigma * h**2 / a # len of cell by t\n",
        "    x = np.arange(*x_range, h)\n",
        "    times = np.arange(*t_range, tau)\n",
        "    cur_t_id = abs(times - time).argmin()\n",
        "\n",
        "    plt.figure(figsize=(15, 9))\n",
        "    for method_name, solution in solutions.items():\n",
        "        plt.plot(x, solution[cur_t_id], label=method_name)\n",
        "\n",
        "    plt.legend()\n",
        "    plt.grid()\n",
        "    plt.show()"
      ]
    },
    {
      "cell_type": "markdown",
      "metadata": {
        "id": "JggfMbLwOIQU"
      },
      "source": [
        "Зависимость погрешности от времени"
      ]
    },
    {
      "cell_type": "code",
      "execution_count": 22,
      "metadata": {
        "id": "NxsPBNhrOHwM"
      },
      "outputs": [],
      "source": [
        "def plot_errors_from_time(\n",
        "    solutions, # dict: solutions[method name] = solution\n",
        "    analytical_solution_name, # for comparing\n",
        "    t_range, # (t_bein, t_end)\n",
        "    h, # len of cell by x\n",
        "    sigma, # coefficient sigma\n",
        "):\n",
        "    \"\"\"\n",
        "    Plot max_abs_error = f(time)\n",
        "    \"\"\"\n",
        "    tau = sigma * h**2 / a # len of cell by t\n",
        "    t = np.arange(*t_range, tau)\n",
        "\n",
        "    plt.figure(figsize=(15, 9))\n",
        "    for method_name, solution in solutions.items():\n",
        "        if method_name == analytical_solution_name:\n",
        "            continue\n",
        "        max_abs_errors = np.array([\n",
        "            max_abs_error(solution[i], solutions[analytical_solution_name][i])\n",
        "            for i in range(len(t))\n",
        "        ])\n",
        "        plt.plot(t, max_abs_errors, label=method_name)\n",
        "\n",
        "    plt.xlabel('time')\n",
        "    plt.ylabel('Max abs error')\n",
        "\n",
        "    plt.legend()\n",
        "    plt.grid()\n",
        "    plt.show()"
      ]
    },
    {
      "cell_type": "markdown",
      "metadata": {
        "id": "mcepzazXOtyX"
      },
      "source": [
        "### Явная конечно-разностная схема\n",
        "\n",
        "В исходном уравнении перейдем от производных к их численным приближениям. Вторую производную будем аппроксимировать по значениям нижнего временного слоя.\n",
        "\n",
        "Получим рекуррентное соотношение:\n",
        "\n",
        "$\\large u_j^{k+1} = \\sigma u_{j-1}^k + (1-2\\sigma)u_j^k + \\sigma u_{j+1}^k$\n",
        "\n",
        "\n",
        "где $\\large\\sigma = \\frac{a\\tau}{h^2}$\n",
        "\n",
        "Значения $u$ в нижнем временном ряду нам известны из начальных условий. Далее можем в цикле проходиться по сетке и рекурретно считать значения в ней."
      ]
    },
    {
      "cell_type": "code",
      "execution_count": 23,
      "metadata": {
        "id": "c5WHEqWHp-P2"
      },
      "outputs": [],
      "source": [
        "def explicit_finite_difference_method(\n",
        "    x_range, # (x_begin, x_end)\n",
        "    t_range, # (t_begin, t_end)\n",
        "    h, # len of cell by x\n",
        "    sigma, # coefficient sigma\n",
        "    a=a, # coefficient a\n",
        "    phi_0=phi_0, # boundary condition 0\n",
        "    phi_1=phi_1, # boundary condition 1\n",
        "    psi=psi, # initial condition,\n",
        "):\n",
        "    \"\"\"\n",
        "    Solves parabolic DE using explicit schema of finite difference method.\n",
        "    Returns matrix U with values of function\n",
        "    \"\"\"\n",
        "    tau = sigma * h**2 / a # len of cell by t\n",
        "    x = np.arange(*x_range, h)\n",
        "    t = np.arange(*t_range, tau)\n",
        "\n",
        "    res = np.zeros((len(t), len(x)))\n",
        "    # row 0 -> use initial condition\n",
        "    for col_id in range(len(x)):\n",
        "        res[0][col_id] = psi(x[col_id])\n",
        "\n",
        "    for row_id in range(1, len(t)):\n",
        "        # col 0 -> use boundary condition 0\n",
        "        res[row_id][0] = phi_0(t[row_id], a)\n",
        "        # cols 1..n-1 -> use explicit schema\n",
        "        for col_id in range(1, len(x)-1):\n",
        "            res[row_id][col_id] = (\n",
        "                sigma * res[row_id-1][col_id-1] \n",
        "                + (1 - 2*sigma) * res[row_id-1][col_id]\n",
        "                + sigma * res[row_id-1][col_id+1]\n",
        "            )\n",
        "        # col n -> use boundary condition 1\n",
        "        res[row_id][-1] = phi_1(t[row_id], a)\n",
        "    return res"
      ]
    },
    {
      "cell_type": "code",
      "execution_count": 24,
      "metadata": {
        "id": "i4BVjcoPfp5m"
      },
      "outputs": [],
      "source": [
        "explicit_solution = explicit_finite_difference_method(\n",
        "    x_range=(x_begin, x_end),\n",
        "    t_range=(t_begin, t_end),\n",
        "    h=h,\n",
        "    sigma=sigma,\n",
        ")"
      ]
    },
    {
      "cell_type": "code",
      "execution_count": 25,
      "metadata": {
        "id": "b_I8p00Zi2zL"
      },
      "outputs": [],
      "source": [
        "solutions[\"explicit schema\"] = explicit_solution"
      ]
    },
    {
      "cell_type": "markdown",
      "metadata": {
        "id": "7zWk6kWwinWh"
      },
      "source": [
        "Погрешность в сравнении с аналитическим решением:"
      ]
    },
    {
      "cell_type": "code",
      "execution_count": 26,
      "metadata": {
        "colab": {
          "base_uri": "https://localhost:8080/"
        },
        "id": "_ZpSuIEtij2-",
        "outputId": "d1d14d94-ba80-48f7-bdca-c0a22a14a0d7"
      },
      "outputs": [
        {
          "name": "stdout",
          "output_type": "stream",
          "text": [
            "max abs error = 0.0008609666464336474\n",
            "mean abs error = 8.744784242016172e-05\n"
          ]
        }
      ],
      "source": [
        "print(f'max abs error = {max_abs_error(explicit_solution, analytical_solution)}')\n",
        "print(f'mean abs error = {mean_abs_error(explicit_solution, analytical_solution)}')"
      ]
    },
    {
      "cell_type": "markdown",
      "metadata": {
        "id": "84TTL_1mW66p"
      },
      "source": [
        "У этого метода есть особенность - он сходится только при $\\sigma < \\frac{1}{2}$, иначе погрешность будет большой"
      ]
    },
    {
      "cell_type": "markdown",
      "metadata": {
        "id": "j4bXGL_GXP6i"
      },
      "source": [
        "### Неявная конечно-разностная схема\n",
        "\n",
        "В исходном уравнении перейдем от производных к их численным приближениям. Вторую производную будем аппроксимировать по значениям верхнего временного слоя.\n",
        "\n",
        "Чтобы получить значения $u$ в одном временном ряду, необходимо решить систему уравнений:\n",
        "\n",
        "$\\large\\begin{equation*}\n",
        " \\begin{cases}\n",
        "   b_1u_1^{k+1}+c_1u_2^{k+1}=d_1, ~~~j=1, \n",
        "   \\\\\n",
        "   a_ju_{j-1}^{k+1}+b_ju_j^{k+1}+c_ju_{j+1}^{k+1}=d_j, ~~~j=2\\dots N-2,\n",
        "   \\\\\n",
        "   a_{N-1}u_{N-2}^{k+1}+b_{N-1}u_{N-1}^{k+1}=d_{N-1}, ~~~j=N-1.\n",
        " \\end{cases}\n",
        "\\end{equation*}$\n",
        "\n",
        "$a_j=c_j=\\sigma$\n",
        "\n",
        "$b_j=-(1+2\\sigma)$\n",
        "\n",
        "$d_j = -u_j^k, ~~~j=2\\dots N-2$\n",
        "\n",
        "$d_1=-(u_1^k+\\sigma\\phi_0(t^{k+1}))$\n",
        "\n",
        "$d_{N-1}=-(u_{N-1}^k+\\sigma\\phi_1(t^{k+1}))$\n",
        "\n",
        "\n",
        "Это трехдиагональная СЛАУ, которую можно решить методом прогонки."
      ]
    },
    {
      "cell_type": "code",
      "execution_count": 27,
      "metadata": {
        "id": "fk2FN8ELWQZA"
      },
      "outputs": [],
      "source": [
        "# stolen from lab 1-2\n",
        "def tridiagonal_solve(A, b):\n",
        "    \"\"\"\n",
        "    Solves Ax=b, where A - tridiagonal matrix\n",
        "    Returns x\n",
        "    \"\"\"\n",
        "    n = len(A)\n",
        "    # Step 1. Forward\n",
        "    v = [0 for _ in range(n)]\n",
        "    u = [0 for _ in range(n)]\n",
        "    v[0] = A[0][1] / -A[0][0]\n",
        "    u[0] = b[0] / A[0][0]\n",
        "    for i in range(1, n-1):\n",
        "        v[i] = A[i][i+1] / (-A[i][i] - A[i][i-1] * v[i-1])\n",
        "        u[i] = (A[i][i-1] * u[i-1] - b[i]) / (-A[i][i] - A[i][i-1] * v[i-1])\n",
        "    v[n-1] = 0\n",
        "    u[n-1] = (A[n-1][n-2] * u[n-2] - b[n-1]) / (-A[n-1][n-1] - A[n-1][n-2] * v[n-2])\n",
        "\n",
        "    # Step 2. Backward\n",
        "    x = [0 for _ in range(n)]\n",
        "    x[n-1] = u[n-1]\n",
        "    for i in range(n-1, 0, -1):\n",
        "        x[i-1] = v[i-1] * x[i] + u[i-1]\n",
        "    return np.array(x)"
      ]
    },
    {
      "cell_type": "code",
      "execution_count": 28,
      "metadata": {
        "id": "ouTWkDBFiaJ3"
      },
      "outputs": [],
      "source": [
        "def implicit_finite_difference_method(\n",
        "    x_range, # (x_begin, x_end)\n",
        "    t_range, # (t_begin, t_end)\n",
        "    h, # len of cell by x\n",
        "    sigma, # coefficient sigma\n",
        "    a=a, # coefficient a\n",
        "    phi_0=phi_0, # boundary condition 0\n",
        "    phi_1=phi_1, # boundary condition 1\n",
        "    psi=psi, # initial condition,\n",
        "):\n",
        "    \"\"\"\n",
        "    Solves parabolic DE using implicit schema of finite difference method.\n",
        "    Returns matrix U with values of function\n",
        "    \"\"\"\n",
        "    tau = sigma * h**2 / a # len of cell by t\n",
        "    x = np.arange(*x_range, h)\n",
        "    t = np.arange(*t_range, tau)\n",
        "    res = np.zeros((len(t), len(x)))\n",
        "\n",
        "    # row 0 -> use initial condition\n",
        "    for col_id in range(len(x)):\n",
        "        res[0][col_id] = psi(x[col_id])\n",
        "\n",
        "    for row_id in range(1, len(t)):\n",
        "        A = np.zeros((len(x)-2, len(x)-2)) # first and last elements will be counted with boundary conditions\n",
        "\n",
        "        # create system of equations for implicit schema\n",
        "        A[0][0] = -(1 + 2*sigma)\n",
        "        A[0][1] = sigma\n",
        "        for i in range(1, len(A) - 1):\n",
        "            A[i][i-1] = sigma\n",
        "            A[i][i] = -(1 + 2*sigma)\n",
        "            A[i][i+1] = sigma\n",
        "        A[-1][-2] = sigma\n",
        "        A[-1][-1] = -(1 + 2*sigma)\n",
        "\n",
        "        # vector b is previous line except first and last elements\n",
        "        b = -res[row_id-1][1:-1]\n",
        "        # apply boundary conditions\n",
        "        b[0] -= sigma * phi_0(t[row_id])\n",
        "        b[-1] -= sigma * phi_1(t[row_id])\n",
        "\n",
        "        res[row_id][0] = phi_0(t[row_id])\n",
        "        res[row_id][-1] = phi_1(t[row_id])\n",
        "        res[row_id][1:-1] = tridiagonal_solve(A, b)\n",
        "\n",
        "    return res"
      ]
    },
    {
      "cell_type": "code",
      "execution_count": 29,
      "metadata": {
        "id": "CmfqBS6tGfJc"
      },
      "outputs": [],
      "source": [
        "implicit_solution = implicit_finite_difference_method(\n",
        "    x_range=(x_begin, x_end),\n",
        "    t_range=(t_begin, t_end),\n",
        "    h=h,\n",
        "    sigma=sigma,\n",
        ")"
      ]
    },
    {
      "cell_type": "code",
      "execution_count": 30,
      "metadata": {
        "id": "UkpWCAd8nPsZ"
      },
      "outputs": [],
      "source": [
        "solutions[\"implicit schema\"] = implicit_solution"
      ]
    },
    {
      "cell_type": "markdown",
      "metadata": {
        "id": "TXntetGIHtIh"
      },
      "source": [
        "Погрешность в сравнении с аналитическим решением:"
      ]
    },
    {
      "cell_type": "code",
      "execution_count": 31,
      "metadata": {
        "colab": {
          "base_uri": "https://localhost:8080/"
        },
        "id": "KYgUQQGcrbcK",
        "outputId": "7f7f0657-0703-4863-ff0c-ab79302efeb9"
      },
      "outputs": [
        {
          "name": "stdout",
          "output_type": "stream",
          "text": [
            "max abs error = 0.0008609666464336474\n",
            "mean abs error = 0.0001316965139744253\n"
          ]
        }
      ],
      "source": [
        "print(f'max abs error = {max_abs_error(implicit_solution, analytical_solution)}')\n",
        "print(f'mean abs error = {mean_abs_error(implicit_solution, analytical_solution)}')"
      ]
    },
    {
      "cell_type": "markdown",
      "metadata": {
        "id": "dumuuKoieGDV"
      },
      "source": [
        "Неявная схема абсолютна устойчива, поэтому при ее использовании всегда получается адекватный результат независимо от параметров сетки. Но с другой стороны этот метод вычислительно более сложный"
      ]
    },
    {
      "cell_type": "markdown",
      "metadata": {
        "id": "vyUAHQ8WhXtv"
      },
      "source": [
        "### Схема Кранка-Николсона\n",
        "\n",
        "Если визуализировать решения, полученные явной и неявной схемой, а также аналитическое решение, то можно заметить, что аналитическое решение часто лежит между двумя численными. Поэтому стоит попробовать использовать выпуклую комбинацию аппроксимаций второй производной (по верхнему и нижнему временному ряду).\n",
        "\n",
        "Выпуклая комбинация - линейная комбинация, при которой коэффициенты неотрицательные и в сумме дают единицу. Будем использовать коэффициенты $\\theta$ и $1-\\theta$.\n",
        "\n",
        "При $\\theta = \\frac{1}{2}$ имеем схему Кранка-Николсона.\n",
        "\n",
        "Немного скорректируем систему уравнений из прошлой схемы\n",
        "\n",
        "$\\large\\begin{equation*}\n",
        " \\begin{cases}\n",
        "   b_1u_1^{k+1}+c_1u_2^{k+1}=d_1, ~~~j=1, \n",
        "   \\\\\n",
        "   a_ju_{j-1}^{k+1}+b_ju_j^{k+1}+c_ju_{j+1}^{k+1}=d_j, ~~~j=2\\dots N-2,\n",
        "   \\\\\n",
        "   a_{N-1}u_{N-2}^{k+1}+b_{N-1}u_{N-1}^{k+1}=d_{N-1}, ~~~j=N-1.\n",
        " \\end{cases}\n",
        "\\end{equation*}$\n",
        "\n",
        "$a_j=c_j=\\sigma\\theta$\n",
        "\n",
        "$b_j=-(1+2\\sigma\\theta)$\n",
        "\n",
        "$d_j = -(u_j^k+(1-\\theta)\\sigma(u_{j-1}^k-2u_j^k+u_{j+1}^k)), ~~~j=2\\dots N-2$\n",
        "\n",
        "$d_1=-(u_1^k+\\sigma\\phi_0(t^{k+1}))$\n",
        "\n",
        "$d_{N-1}=-(u_{N-1}^k+\\sigma\\phi_1(t^{k+1}))$\n",
        "\n",
        "\n",
        "Это трехдиагональная СЛАУ, которую можно решить методом прогонки."
      ]
    },
    {
      "cell_type": "code",
      "execution_count": 32,
      "metadata": {
        "id": "RbC-kXKFJjDT"
      },
      "outputs": [],
      "source": [
        "def crank_nicolson_method(\n",
        "    x_range, # (x_begin, x_end)\n",
        "    t_range, # (t_begin, t_end)\n",
        "    h, # len of cell by x\n",
        "    sigma, # coefficient sigma\n",
        "    a=a, # coefficient a\n",
        "    phi_0=phi_0, # boundary condition 0\n",
        "    phi_1=phi_1, # boundary condition 1\n",
        "    psi=psi, # initial condition,\n",
        "    theta=0.5, # coefficient theta for combination\n",
        "):\n",
        "    \"\"\"\n",
        "    Solves parabolic DE using Crank-Nicolson schema.\n",
        "    Returns matrix U with values of function\n",
        "    \"\"\"\n",
        "    tau = sigma * h**2 / a # len of cell by t\n",
        "    x = np.arange(*x_range, h)\n",
        "    t = np.arange(*t_range, tau)\n",
        "    res = np.zeros((len(t), len(x)))\n",
        "\n",
        "    # row 0 -> use initial condition\n",
        "    for col_id in range(len(x)):\n",
        "        res[0][col_id] = psi(x[col_id])\n",
        "\n",
        "    for row_id in range(1, len(t)):\n",
        "        A = np.zeros((len(x)-2, len(x)-2)) # first and last elements will be counted with boundary conditions\n",
        "\n",
        "        # create system of equations for implicit schema\n",
        "        A[0][0] = -(1 + 2*sigma*theta)\n",
        "        A[0][1] = sigma * theta\n",
        "        for i in range(1, len(A) - 1):\n",
        "            A[i][i-1] = sigma * theta\n",
        "            A[i][i] = -(1 + 2*sigma*theta)\n",
        "            A[i][i+1] = sigma * theta\n",
        "        A[-1][-2] = sigma * theta\n",
        "        A[-1][-1] = -(1 + 2*sigma*theta)\n",
        "\n",
        "        # vector b is previous line except first and last elements\n",
        "        b = np.array([-(\n",
        "            res[row_id-1][i] + \n",
        "            (1-theta) * sigma * \n",
        "                (res[row_id-1][i-1] - 2*res[row_id-1][i] + res[row_id-1][i+1])\n",
        "        ) for i in range(1, len(res[row_id-1])-1)])\n",
        "        # apply boundary conditions\n",
        "        b[0] -= sigma * theta * phi_0(t[row_id])\n",
        "        b[-1] -= sigma * theta * phi_1(t[row_id])\n",
        "\n",
        "        res[row_id][0] = phi_0(t[row_id])\n",
        "        res[row_id][-1] = phi_1(t[row_id])\n",
        "        res[row_id][1:-1] = tridiagonal_solve(A, b)\n",
        "\n",
        "    return res"
      ]
    },
    {
      "cell_type": "code",
      "execution_count": 33,
      "metadata": {
        "id": "xBOnlE_in1rL"
      },
      "outputs": [],
      "source": [
        "crank_nicolson_solution = crank_nicolson_method(\n",
        "    x_range=(x_begin, x_end),\n",
        "    t_range=(t_begin, t_end),\n",
        "    h=h,\n",
        "    sigma=sigma,\n",
        ")"
      ]
    },
    {
      "cell_type": "code",
      "execution_count": 34,
      "metadata": {
        "id": "GAEC41Ipn7aR"
      },
      "outputs": [],
      "source": [
        "solutions[\"crank-nicolson schema\"] = crank_nicolson_solution"
      ]
    },
    {
      "cell_type": "markdown",
      "metadata": {
        "id": "JBte_Vojn9Qi"
      },
      "source": [
        "Погрешность в сравнении с аналитическим решением:"
      ]
    },
    {
      "cell_type": "code",
      "execution_count": 35,
      "metadata": {
        "colab": {
          "base_uri": "https://localhost:8080/"
        },
        "id": "d-2l2MBsrdtO",
        "outputId": "37c4b751-d177-413f-b704-9a192ac42a46"
      },
      "outputs": [
        {
          "name": "stdout",
          "output_type": "stream",
          "text": [
            "max abs error = 0.0008609666464336474\n",
            "mean abs error = 9.021966631966317e-05\n"
          ]
        }
      ],
      "source": [
        "print(f'max abs error = {max_abs_error(crank_nicolson_solution, analytical_solution)}')\n",
        "print(f'mean abs error = {mean_abs_error(crank_nicolson_solution, analytical_solution)}')"
      ]
    },
    {
      "cell_type": "markdown",
      "metadata": {
        "id": "70g7ajfvoKEf"
      },
      "source": [
        "## Визуализация\n",
        "\n",
        "Посмотрим на полученные функции при некотором фиксированном моменте времени"
      ]
    },
    {
      "cell_type": "code",
      "execution_count": 38,
      "metadata": {
        "colab": {
          "base_uri": "https://localhost:8080/",
          "height": 537
        },
        "id": "GtqTVtXJoYVC",
        "outputId": "9802917d-8713-4dc6-a212-a8ad9f6c3c21"
      },
      "outputs": [
        {
          "data": {
            "image/png": "[encoded data removed]",
            "text/plain": [
              "<Figure size 1500x900 with 1 Axes>"
            ]
          },
          "metadata": {},
          "output_type": "display_data"
        }
      ],
      "source": [
        "plot_results(\n",
        "    solutions=solutions,\n",
        "    time=0.1,\n",
        "    x_range=(x_begin, x_end),\n",
        "    t_range=(t_begin, t_end),\n",
        "    h=h,\n",
        "    sigma=sigma,\n",
        ")"
      ]
    },
    {
      "cell_type": "markdown",
      "metadata": {
        "id": "arCEZztfoSN6"
      },
      "source": [
        "Посмотрим, как меняется зависимость погрешности с течением времени"
      ]
    },
    {
      "cell_type": "code",
      "execution_count": 37,
      "metadata": {
        "colab": {
          "base_uri": "https://localhost:8080/",
          "height": 562
        },
        "id": "PM-WfhbQo-N0",
        "outputId": "b9e88f11-493a-4eef-ff4c-4754316aac3b"
      },
      "outputs": [
        {
          "data": {
            "image/png": "[encoded data removed]",
            "text/plain": [
              "<Figure size 1500x900 with 1 Axes>"
            ]
          },
          "metadata": {},
          "output_type": "display_data"
        }
      ],
      "source": [
        "plot_errors_from_time(\n",
        "    solutions=solutions,\n",
        "    analytical_solution_name=\"analytical solution\",\n",
        "    t_range=(t_begin, t_end),\n",
        "    h=h,\n",
        "    sigma=sigma,\n",
        ")"
      ]
    },
    {
      "cell_type": "markdown",
      "metadata": {
        "id": "itmHZcK4qpb8"
      },
      "source": [
        "## Вывод\n",
        "\n",
        "В данной работе я научился решать начально-краевые задачи для ДУ параболического типа тремя способами:\n",
        "* с помощью явной конечно-разностной схемы\n",
        "* с помощью неявной конечно-разностной схемы\n",
        "* с помощью схемы Кранка-Николсона\n",
        "\n",
        "С помощью каждого метода получилось решить заданное ДУ с приемлемой точностью.\n",
        "\n",
        "В ходе работы я выявил плюсы и минусы изученных алгоритмов. \n",
        "\n",
        "Явная конечно-разностная схема легко считается, но она не всегда устойчива и, соответственно, не всегда гарантирует адекватный результат.\n",
        "\n",
        "Неявная схема абсолютно устойчива, но она требует больших вычислительных затрат - приходится решать много СЛАУ. \n",
        "\n",
        "Схема Кранка-Николсона \"комбинирует\" предыдущие схемы, поэтому имеет наименьшую погрешность. Но при этом она по-прежнему использует сложные вычисления."
      ]
    },
    {
      "cell_type": "code",
      "execution_count": null,
      "metadata": {
        "id": "J9U8FlUOr5ue"
      },
      "outputs": [],
      "source": []
    }
  ],
  "metadata": {
    "colab": {
      "provenance": []
    },
    "kernelspec": {
      "display_name": "Python 3.9.4 64-bit",
      "language": "python",
      "name": "python3"
    },
    "language_info": {
      "codemirror_mode": {
        "name": "ipython",
        "version": 3
      },
      "file_extension": ".py",
      "mimetype": "text/x-python",
      "name": "python",
      "nbconvert_exporter": "python",
      "pygments_lexer": "ipython3",
      "version": "3.11.1"
    },
    "vscode": {
      "interpreter": {
        "hash": "dd426dfed99da6cb3eeddada32cbe22393fcbce2a3b224045159bf9f02b27406"
      }
    }
  },
  "nbformat": 4,
  "nbformat_minor": 0
}
