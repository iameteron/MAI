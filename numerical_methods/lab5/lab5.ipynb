{
  "cells": [
    {
      "cell_type": "markdown",
      "metadata": {
        "id": "z9nQJysqIiVu"
      },
      "source": [
        "## Лабораторная работа №5\n",
        "### Начально-краевые задачи для дифференциального уравнения параболического типа\n",
        "\n",
        "Сорокин Никита, М8О-403Б-20"
      ]
    },
    {
      "cell_type": "markdown",
      "metadata": {
        "id": "3gzv2gdtJGdU"
      },
      "source": [
        "### Задание\n",
        "Используя явную и неявную конечно-разностные схемы, а также схему Кранка - Николсона, решить начально-краевую задачу для дифференциального уравнения параболического типа. Осуществить реализацию трех вариантов аппроксимации граничных условий, содержащих производные: двухточечная аппроксимация с первым порядком, трехточечная аппроксимация со вторым порядком, двухточечная аппроксимация со вторым порядком. В различные моменты времени вычислить погрешность численного решения путем сравнения результатов с приведенным в задании аналитическим решением  $ U(x, t) $.\n",
        "\n",
        "Вариант 2:\n",
        "\n",
        "$$\n",
        "\\begin{cases}\n",
        "\n",
        "\\frac{ \\partial u }{ \\partial t } = a^2 \\frac{ \\partial^2 u }{ \\partial x^2} , a>0, \\\\\n",
        "u(0, t) = 0, \\\\\n",
        " u(1, t) = 1, \\\\ \n",
        " u(x, 0) = x + sin(\\pi x)\n",
        "\n",
        "\\end{cases}\n",
        "\n",
        "$$\n",
        "\n",
        "Аналитическое решение: \n",
        "\n",
        "$$\n",
        "U(x, t) = x + e^{-\\pi^2 a t} sin(\\pi x)\n",
        "$$\n"
      ]
    },
    {
      "cell_type": "code",
      "execution_count": 47,
      "metadata": {},
      "outputs": [],
      "source": [
        "import sys \n",
        "sys.path\n",
        "\n",
        "sys.path.insert(0, r\"c:\\Users\\никита\\Desktop\\учеба\\чм\\modules\")"
      ]
    },
    {
      "cell_type": "code",
      "execution_count": 48,
      "metadata": {
        "id": "kp7Yj3pfNZTh"
      },
      "outputs": [],
      "source": [
        "import numpy as np\n",
        "import matplotlib.pyplot as plt\n",
        "import seaborn as sns\n",
        "import time\n",
        "sns.set()\n",
        "\n",
        "%matplotlib inline\n",
        "\n",
        "from LinearAlgebra import *"
      ]
    },
    {
      "cell_type": "code",
      "execution_count": 49,
      "metadata": {
        "id": "c_GFwsmkJEj_"
      },
      "outputs": [],
      "source": [
        "a = 1\n",
        "\n",
        "x_begin = 0\n",
        "x_end = 1\n",
        "\n",
        "t_begin = 0\n",
        "t_end = 1\n",
        "\n",
        "h = 0.1\n",
        "tau = h**2 / (2 * a**2)\n",
        "sigma = a**2 * tau / h**2"
      ]
    },
    {
      "cell_type": "code",
      "execution_count": 50,
      "metadata": {},
      "outputs": [
        {
          "data": {
            "text/plain": [
              "True"
            ]
          },
          "execution_count": 50,
          "metadata": {},
          "output_type": "execute_result"
        }
      ],
      "source": [
        "def check_sigma(sigma):\n",
        "    res = True if sigma <= 1 / 2 else False\n",
        "    return res\n",
        "\n",
        "check_sigma(sigma)"
      ]
    },
    {
      "cell_type": "markdown",
      "metadata": {
        "id": "JSa26Fr8NUd0"
      },
      "source": [
        "Начальные условия:"
      ]
    },
    {
      "cell_type": "code",
      "execution_count": 51,
      "metadata": {
        "id": "lxyT4fkhNStT"
      },
      "outputs": [],
      "source": [
        "def solution(x, t, a=1):\n",
        "    u = x + np.exp(-np.pi**2 * a * t) * np.sin(np.pi * x)\n",
        "    return u \n",
        "\n",
        "def phi_0(t, a=1):\n",
        "    return 0\n",
        "\n",
        "def phi_1(t, a=1):\n",
        "    return 1\n",
        "    \n",
        "def psi(x):\n",
        "    return x + np.sin(np.pi * x)"
      ]
    },
    {
      "cell_type": "markdown",
      "metadata": {
        "id": "kwqQubAwQwxh"
      },
      "source": [
        "### Точное решение\n",
        "\n",
        "Дано по условию:"
      ]
    },
    {
      "cell_type": "code",
      "execution_count": 52,
      "metadata": {
        "id": "O0QVaqQPQ3EC"
      },
      "outputs": [],
      "source": [
        "def get_analytical_solution(x_begin, x_end, t_begin, t_end, h, tau, a):\n",
        "\n",
        "    x = np.arange(x_begin, x_end + h, h)\n",
        "    t = np.arange(t_begin, t_end + tau, tau)\n",
        "\n",
        "    res = np.zeros((len(t), len(x)))\n",
        "    for idx in range(len(x)):\n",
        "        for idt in range(len(t)):\n",
        "            res[idt][idx] = solution(x[idx], t[idt], a)\n",
        "    \n",
        "    return res"
      ]
    },
    {
      "cell_type": "code",
      "execution_count": 53,
      "metadata": {
        "id": "U_7zPEDIR8nL"
      },
      "outputs": [],
      "source": [
        "u_exact = get_analytical_solution(x_begin, x_end, t_begin, t_end, h, tau, a)"
      ]
    },
    {
      "cell_type": "markdown",
      "metadata": {
        "id": "mcepzazXOtyX"
      },
      "source": [
        "### Явная схема\n",
        "\n",
        "В исходном уравнении перейдем от производных к их численным приближениям. Вторую производную будем аппроксимировать по значениям нижнего временного слоя.\n",
        "\n",
        "$$\n",
        "\n",
        "\\frac{\\mathit{u}_{\\mathit{j}}^{k+1}-\\mathit{u}_{\\mathit{j}}^{k}}{\\tau}\n",
        " = \n",
        "a^{2} \\frac{ {\\mathit{u}_{\\mathit{j+1}}^{k}-2\\mathit{u}_{\\mathit{j}}^{k}+u}_{j-1}^{k}}{h^{2}}+O\\! \\left(h^{2}+\\tau \\right)\n",
        "\n",
        "$$\n",
        "\n",
        "Выразим $ u_j^{k+1} $ и получим:\n",
        "\n",
        "$$ u_j^{k+1} = \\sigma u_{j-1}^k + (1-2\\sigma)u_j^k + \\sigma u_{j+1}^k $$\n",
        "\n",
        "\n",
        "где $ \\sigma = \\frac{a\\tau}{h^2}$"
      ]
    },
    {
      "cell_type": "code",
      "execution_count": 54,
      "metadata": {
        "id": "c5WHEqWHp-P2"
      },
      "outputs": [],
      "source": [
        "def explicit_scheme(x_begin, x_end, t_begin, t_end, h, tau, a, phi_0, phi_1, psi):\n",
        "\n",
        "    sigma = a**2 * tau / h**2\n",
        "    x = np.arange(x_begin, x_end + h, h)\n",
        "    t = np.arange(t_begin, t_end + tau, tau)\n",
        "    res = np.zeros((len(t), len(x)))\n",
        "\n",
        "    res = np.zeros((len(t), len(x)))\n",
        "    for col_id in range(len(x)):\n",
        "        res[0][col_id] = psi(x[col_id])\n",
        "\n",
        "    for row_id in range(1, len(t)):\n",
        "        res[row_id][0] = phi_0(t[row_id], a)\n",
        "        for col_id in range(1, len(x)-1):\n",
        "            res[row_id][col_id] = (\n",
        "                sigma * res[row_id-1][col_id-1] \n",
        "                + (1 - 2*sigma) * res[row_id-1][col_id]\n",
        "                + sigma * res[row_id-1][col_id+1]\n",
        "            )\n",
        "\n",
        "        res[row_id][-1] = phi_1(t[row_id], a)\n",
        "    \n",
        "    return res"
      ]
    },
    {
      "cell_type": "code",
      "execution_count": 55,
      "metadata": {
        "id": "i4BVjcoPfp5m"
      },
      "outputs": [],
      "source": [
        "u_explicit = explicit_scheme(x_begin, x_end, t_begin, t_end, h, tau, a, phi_0, phi_1, psi)"
      ]
    },
    {
      "cell_type": "markdown",
      "metadata": {
        "id": "j4bXGL_GXP6i"
      },
      "source": [
        "### Неявная схема\n",
        "\n",
        "В исходном уравнении перейдем от производных к их численным приближениям. Вторую производную будем аппроксимировать по значениям верхнего временного слоя:\n",
        "\n",
        "$$\n",
        "\n",
        "\\frac{\\mathit{u}_{\\mathit{j}}^{k+1}-\\mathit{u}_{\\mathit{j}}^{k}}{\\tau}\n",
        " = \n",
        "a^{2} \\frac{ {\\mathit{u}_{\\mathit{j+1}}^{k+1}-2\\mathit{u}_{\\mathit{j}}^{k+1}+u}_{j-1}^{k+1}}{h^{2}}+O\\! \\left(h^{2}+\\tau \\right)\n",
        "\n",
        "$$\n",
        "\n",
        "Выражаем $ u_{j}^{k + 1} $ и получаем СЛАУ для трехдиагональной матрицы, которую можно решать методом прогонки написанным ранее:\n",
        "\n",
        "$$\n",
        "\n",
        "\\begin{equation*}\n",
        " \\begin{cases}\n",
        "   b_1u_1^{k+1}+c_1u_2^{k+1}=d_1, ~~~j=1, \n",
        "   \\\\\n",
        "   a_ju_{j-1}^{k+1}+b_ju_j^{k+1}+c_ju_{j+1}^{k+1}=d_j, ~~~j=2\\dots N-2,\n",
        "   \\\\\n",
        "   a_{N-1}u_{N-2}^{k+1}+b_{N-1}u_{N-1}^{k+1}=d_{N-1}, ~~~j=N-1.\n",
        " \\end{cases}\n",
        "\\end{equation*}\n",
        "\n",
        "$$\n",
        "\n",
        "$$ \n",
        "\\begin{align}\n",
        "a_j &=c_j=\\sigma \\\\\n",
        "b_j &=-(1+2\\sigma) \\\\\n",
        "d_j &= -u_j^k, ~~~j=2\\dots N-2 \\\\\n",
        "d_1 &=-(u_1^k+\\sigma\\phi_0(t^{k+1})) \\\\\n",
        "d_{N-1} &=-(u_{N-1}^k+\\sigma\\phi_1(t^{k+1})) \n",
        "\\end{align}\n",
        "$$\n"
      ]
    },
    {
      "cell_type": "code",
      "execution_count": 56,
      "metadata": {
        "id": "ouTWkDBFiaJ3"
      },
      "outputs": [],
      "source": [
        "def implicit_scheme(x_begin, x_end, t_begin, t_end, h, tau, a, phi_0, phi_1, psi):\n",
        "\n",
        "    sigma = a**2 * tau / h**2\n",
        "    x = np.arange(x_begin, x_end + h, h)\n",
        "    t = np.arange(t_begin, t_end + tau, tau)\n",
        "    res = np.zeros((len(t), len(x)))\n",
        "\n",
        "    for col_id in range(len(x)):\n",
        "        res[0, col_id] = psi(x[col_id])\n",
        "\n",
        "    for row_id in range(1, len(t)):\n",
        "        A = np.zeros((len(x) - 2, len(x) - 2))\n",
        "\n",
        "        A[0, 0] = -(1 + 2 * sigma)\n",
        "        A[0, 1] = sigma\n",
        "        for i in range(1, len(A) - 1):\n",
        "            A[i, i-1] = sigma\n",
        "            A[i, i] = -(1 + 2 * sigma)\n",
        "            A[i, i+1] = sigma\n",
        "        A[-1, -2] = sigma\n",
        "        A[-1, -1] = -(1 + 2 * sigma)\n",
        "\n",
        "        b = -res[row_id - 1, 1:-1]\n",
        "        b[0] -= sigma * phi_0(t[row_id])\n",
        "        b[-1] -= sigma * phi_1(t[row_id])\n",
        "\n",
        "        res[row_id, 0] = phi_0(t[row_id])\n",
        "        res[row_id, -1] = phi_1(t[row_id])\n",
        "        res[row_id, 1:-1] = sweep_method(A, b)\n",
        "\n",
        "    return res"
      ]
    },
    {
      "cell_type": "code",
      "execution_count": 57,
      "metadata": {
        "id": "CmfqBS6tGfJc"
      },
      "outputs": [],
      "source": [
        "u_implicit = implicit_scheme(x_begin, x_end, t_begin, t_end, h, tau, a, phi_0, phi_1, psi)"
      ]
    },
    {
      "cell_type": "markdown",
      "metadata": {
        "id": "vyUAHQ8WhXtv"
      },
      "source": [
        "### Схема Кранка-Николсона\n",
        "\n",
        "Рассмотрим неявно-явную схему с весами для простейшего уравнения теплопроводности:\n",
        "\n",
        "$$\n",
        "\n",
        "\\frac{\\mathit{u}_{\\mathit{j}}^{k+1}-\\mathit{u}_{\\mathit{j}}^{k}}{\\tau}\n",
        " = \n",
        "\\theta a^{2} \\frac{ {\\mathit{u}_{\\mathit{j+1}}^{k+1}-2\\mathit{u}_{\\mathit{j}}^{k+1}+u}_{j-1}^{k+1}}{h^{2}} +\n",
        "(1 - \\theta) a^{2} \\frac{ {\\mathit{u}_{\\mathit{j+1}}^{k}-2\\mathit{u}_{\\mathit{j}}^{k}+u}_{j-1}^{k}}{h^{2}}\n",
        "\n",
        "$$\n",
        "\n",
        "При $\\theta = \\frac{1}{2}$ имеем схему Кранка-Николсона.\n",
        "\n",
        "Аналогично неявной схеме:\n",
        "\n",
        "$$\n",
        "\n",
        "\\begin{equation*}\n",
        " \\begin{cases}\n",
        "   b_1u_1^{k+1}+c_1u_2^{k+1}=d_1, ~~~j=1, \n",
        "   \\\\\n",
        "   a_ju_{j-1}^{k+1}+b_ju_j^{k+1}+c_ju_{j+1}^{k+1}=d_j, ~~~j=2\\dots N-2,\n",
        "   \\\\\n",
        "   a_{N-1}u_{N-2}^{k+1}+b_{N-1}u_{N-1}^{k+1}=d_{N-1}, ~~~j=N-1.\n",
        " \\end{cases}\n",
        "\\end{equation*}\n",
        "\n",
        "$$\n",
        "\n",
        "$$\n",
        "\n",
        "\\begin{align}\n",
        "a_j &= c_j=\\sigma\\theta \\\\\n",
        "b_j &= -(1+2\\sigma\\theta) \\\\\n",
        "d_j &= -(u_j^k+(1-\\theta)\\sigma(u_{j-1}^k-2u_j^k+u_{j+1}^k)), ~~~j=2\\dots N-2 \\\\\n",
        "d_1 &= -(u_1^k+\\sigma\\phi_0(t^{k+1}) - (1-\\theta)\\sigma(u_{2}^k-2u_1^k+u_{0}^k)) \\\\\n",
        "d_{N-1} & =-(u_{N-1}^k+\\sigma\\phi_1(t^{k+1}) - (1-\\theta)\\sigma(u_{N}^k-2u_{N-1}^k+u_{N-2}^k)) \\\\\n",
        "\\end{align}\n",
        "$$\n",
        "\n",
        "\n",
        "Это трехдиагональная СЛАУ, которую можно решить методом прогонки."
      ]
    },
    {
      "cell_type": "code",
      "execution_count": 58,
      "metadata": {
        "id": "RbC-kXKFJjDT"
      },
      "outputs": [],
      "source": [
        "def crank_nickolson_scheme(x_begin, x_end, t_begin, t_end, h, tau, a, phi_0, phi_1, psi, theta=1/2):\n",
        "\n",
        "    sigma = a**2 * tau / h**2\n",
        "    x = np.arange(x_begin, x_end + h, h)\n",
        "    t = np.arange(t_begin, t_end + tau, tau)\n",
        "    res = np.zeros((len(t), len(x)))\n",
        "\n",
        "    for col_id in range(len(x)):\n",
        "        res[0, col_id] = psi(x[col_id])\n",
        "\n",
        "    for row_id in range(1, len(t)):\n",
        "        A = np.zeros((len(x) - 2, len(x) - 2)) \n",
        "\n",
        "        A[0, 0] = -(1 + 2 * sigma * theta)\n",
        "        A[0, 1] = sigma * theta\n",
        "        for i in range(1, len(A) - 1):\n",
        "            A[i, i - 1] = sigma * theta\n",
        "            A[i, i] = -(1 + 2 * sigma * theta)\n",
        "            A[i, i + 1] = sigma * theta\n",
        "        A[-1, -2] = sigma * theta\n",
        "        A[-1, -1] = -(1 + 2 * sigma * theta)\n",
        "\n",
        "        b = np.array([-(res[row_id-1, i] + (1-theta) * sigma * (res[row_id-1][i-1] - 2*res[row_id-1][i] + res[row_id-1][i+1])) for i in range(1, len(res[row_id-1])-1)])\n",
        "        b[0] -= sigma * theta * phi_0(t[row_id])\n",
        "        b[-1] -= sigma * theta * phi_1(t[row_id])\n",
        "\n",
        "        res[row_id, 0] = phi_0(t[row_id])\n",
        "        res[row_id, -1] = phi_1(t[row_id])\n",
        "        res[row_id, 1:-1] = sweep_method(A, b)\n",
        "\n",
        "    return res"
      ]
    },
    {
      "cell_type": "code",
      "execution_count": 59,
      "metadata": {
        "id": "xBOnlE_in1rL"
      },
      "outputs": [],
      "source": [
        "u_crank_nickolson = crank_nickolson_scheme(x_begin, x_end, t_begin, t_end, h, tau, a, phi_0, phi_1, psi)"
      ]
    },
    {
      "cell_type": "markdown",
      "metadata": {
        "id": "70g7ajfvoKEf"
      },
      "source": [
        "### Полученные результаты\n"
      ]
    },
    {
      "cell_type": "markdown",
      "metadata": {},
      "source": [
        "Графики:"
      ]
    },
    {
      "cell_type": "code",
      "execution_count": 60,
      "metadata": {},
      "outputs": [
        {
          "data": {
            "text/plain": [
              "(201,)"
            ]
          },
          "execution_count": 60,
          "metadata": {},
          "output_type": "execute_result"
        }
      ],
      "source": [
        "u_explicit[:, 0].shape"
      ]
    },
    {
      "cell_type": "code",
      "execution_count": 61,
      "metadata": {},
      "outputs": [
        {
          "data": {
            "text/plain": [
              "<matplotlib.legend.Legend at 0x2c19f993510>"
            ]
          },
          "execution_count": 61,
          "metadata": {},
          "output_type": "execute_result"
        },
        {
          "data": {
            "image/png": "[encoded data removed]",
            "text/plain": [
              "<Figure size 1000x600 with 1 Axes>"
            ]
          },
          "metadata": {},
          "output_type": "display_data"
        }
      ],
      "source": [
        "fig, axs = plt.subplots(figsize=(10, 6))\n",
        "\n",
        "x = np.arange(x_begin, x_end + h, h)\n",
        "\n",
        "i = 10\n",
        "line1, = axs.plot(x, u_explicit[i, :], label=\"explicit scheme\")\n",
        "line2, = axs.plot(x, u_implicit[i, :], label=\"implicit scheme\")\n",
        "line3, = axs.plot(x, u_exact[i, :], label=\"exact solution\")\n",
        "line4, = axs.plot(x, u_crank_nickolson[i, :], label=\"crank nickolson scheme\")\n",
        "\n",
        "plt.legend()"
      ]
    },
    {
      "cell_type": "markdown",
      "metadata": {},
      "source": [
        "Функция для вычисления погрешности - максимального модуля ошибки"
      ]
    },
    {
      "cell_type": "code",
      "execution_count": 62,
      "metadata": {},
      "outputs": [],
      "source": [
        "def max_abs_error(A, B):\n",
        "    assert A.shape == B.shape\n",
        "    return abs(A - B).max()"
      ]
    },
    {
      "cell_type": "markdown",
      "metadata": {},
      "source": [
        "И среднего модуля ошибки:"
      ]
    },
    {
      "cell_type": "code",
      "execution_count": 63,
      "metadata": {},
      "outputs": [],
      "source": [
        "def mean_abs_error(A, B):\n",
        "    assert A.shape == B.shape\n",
        "    return abs(A - B).mean()"
      ]
    },
    {
      "cell_type": "code",
      "execution_count": 64,
      "metadata": {},
      "outputs": [],
      "source": [
        "def print_errors(h=0.01):\n",
        "\n",
        "    tau = h**2 / (2 * a**2)\n",
        "    sigma = a**2 * tau / h**2\n",
        "\n",
        "    u_exact = get_analytical_solution(x_begin, x_end, t_begin, t_end, h, tau, a)\n",
        "    u_explicit = explicit_scheme(x_begin, x_end, t_begin, t_end, h, tau, a, phi_0, phi_1, psi)\n",
        "    u_implicit = implicit_scheme(x_begin, x_end, t_begin, t_end, h, tau, a, phi_0, phi_1, psi)\n",
        "    u_crank_nickolson = crank_nickolson_scheme(x_begin, x_end, t_begin, t_end, h, tau, a, phi_0, phi_1, psi)\n",
        "\n",
        "    print(f'h = {h} \\n')\n",
        "\n",
        "    print(f'u_explicit mean abs error: {mean_abs_error(u_exact, u_explicit)}')\n",
        "    print(f'u_explicit max abs error: {max_abs_error(u_exact, u_explicit)} \\n')\n",
        "\n",
        "    print(f'u_implicit mean abs error: {mean_abs_error(u_exact, u_implicit)}')\n",
        "    print(f'u_implicit max abs error: {max_abs_error(u_exact, u_implicit)} \\n')\n",
        "\n",
        "    print(f'u_crank_nickolson mean abs error: {mean_abs_error(u_exact, u_crank_nickolson)}')\n",
        "    print(f'u_crank_nickolson max abs error: {max_abs_error(u_exact, u_crank_nickolson)}')"
      ]
    },
    {
      "cell_type": "code",
      "execution_count": 65,
      "metadata": {},
      "outputs": [
        {
          "name": "stdout",
          "output_type": "stream",
          "text": [
            "h = 0.1 \n",
            "\n",
            "u_explicit mean abs error: 0.0009607639976331366\n",
            "u_explicit max abs error: 0.0061635046169227214 \n",
            "\n",
            "u_implicit mean abs error: 0.0018931477373606352\n",
            "u_implicit max abs error: 0.011849648722166206 \n",
            "\n",
            "u_crank_nickolson mean abs error: 0.0004662839783366718\n",
            "u_crank_nickolson max abs error: 0.0029542842651493206\n"
          ]
        }
      ],
      "source": [
        "h1 = 0.1\n",
        "print_errors(h1)"
      ]
    },
    {
      "cell_type": "code",
      "execution_count": 66,
      "metadata": {},
      "outputs": [
        {
          "name": "stdout",
          "output_type": "stream",
          "text": [
            "h = 0.05 \n",
            "\n",
            "u_explicit mean abs error: 0.00025227508109572084\n",
            "u_explicit max abs error: 0.0015197269734945618 \n",
            "\n",
            "u_implicit mean abs error: 0.0005026721251518475\n",
            "u_implicit max abs error: 0.0030096056866816268 \n",
            "\n",
            "u_crank_nickolson mean abs error: 0.00012520444550339287\n",
            "u_crank_nickolson max abs error: 0.0007519292135637068\n"
          ]
        }
      ],
      "source": [
        "h2 = 0.05\n",
        "print_errors(h2)"
      ]
    },
    {
      "cell_type": "markdown",
      "metadata": {},
      "source": [
        "### Вывод\n",
        "\n",
        "В данной работе я научился решать начально-краевые задачи для ДУ параболического типа тремя способами:\n",
        "* с помощью явной конечно-разностной схемы\n",
        "* с помощью неявной конечно-разностной схемы\n",
        "* с помощью схемы Кранка-Николсона\n",
        "\n",
        "С помощью каждого метода получилось решить заданное ДУ с приемлемой точностью.\n",
        "\n",
        "В ходе работы я выявил плюсы и минусы изученных алгоритмов. \n",
        "\n",
        "Явная конечно-разностная схема легко считается, но она не всегда устойчива и, соответственно, не всегда гарантирует адекватный результат.\n",
        "\n",
        "Неявная схема абсолютно устойчива, но она требует больших вычислительных затрат - приходится решать много СЛАУ. \n",
        "\n",
        "Схема Кранка-Николсона \"комбинирует\" предыдущие схемы, поэтому имеет наименьшую погрешность. Но при этом она по-прежнему использует сложные вычисления."
      ]
    }
  ],
  "metadata": {
    "colab": {
      "provenance": []
    },
    "kernelspec": {
      "display_name": "Python 3.9.4 64-bit",
      "language": "python",
      "name": "python3"
    },
    "language_info": {
      "codemirror_mode": {
        "name": "ipython",
        "version": 3
      },
      "file_extension": ".py",
      "mimetype": "text/x-python",
      "name": "python",
      "nbconvert_exporter": "python",
      "pygments_lexer": "ipython3",
      "version": "3.11.1"
    },
    "vscode": {
      "interpreter": {
        "hash": "dd426dfed99da6cb3eeddada32cbe22393fcbce2a3b224045159bf9f02b27406"
      }
    }
  },
  "nbformat": 4,
  "nbformat_minor": 0
}
