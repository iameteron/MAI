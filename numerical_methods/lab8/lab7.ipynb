{
  "cells": [
    {
      "cell_type": "markdown",
      "metadata": {},
      "source": [
        "## Лабораторная работа №7\n",
        "### Краевые задачи для дифференциального уравнения эллиптического типа\n",
        "\n",
        "Сорокин Никита, М8О-403Б-20"
      ]
    },
    {
      "cell_type": "markdown",
      "metadata": {
        "id": "UHlJPhswBzvm"
      },
      "source": [
        "### Задание\n",
        "Решить краевую задачу для дифференциального уравнения эллиптического типа. Аппроксимацию уравнения произвести с использованием центрально-разностной схемы. Для решения дискретного аналога применить следующие методы: метод простых итераций (метод Либмана), метод Зейделя, метод простых итераций с верхней релаксацией. Вычислить погрешность численного решения путем сравнения результатов с приведенным в задании аналитическим решением $U(x, y)$.\n",
        "\n",
        "Вариант 2:\n",
        "\n",
        "$$\n",
        "\\begin{cases}\n",
        "\\frac{\\partial^2 u}{\\partial x^2} + \\frac{\\partial^2 u}{\\partial y^2}= 0 \\\\\n",
        "u_x(0, y) = 0  \\\\\n",
        "u(1, y) = 1 - y^2 \\\\\n",
        "u_y(x, 0) = 0   \\\\\n",
        "u(x, 1) = x^2 - 1\n",
        "\\end{cases}\n",
        "$$\n",
        "\n",
        "Аналитическое решение: \n",
        "\n",
        "$$\n",
        "U(x, y) = x^2 - y^2\n",
        "$$"
      ]
    },
    {
      "cell_type": "code",
      "execution_count": 1,
      "metadata": {},
      "outputs": [],
      "source": [
        "import sys \n",
        "sys.path\n",
        "\n",
        "sys.path.insert(0, r\"c:\\Users\\никита\\Desktop\\учеба\\чм\\modules\")"
      ]
    },
    {
      "cell_type": "code",
      "execution_count": 2,
      "metadata": {},
      "outputs": [],
      "source": [
        "import numpy as np\n",
        "import matplotlib.pyplot as plt\n",
        "import seaborn as sns\n",
        "import time\n",
        "sns.set()\n",
        "\n",
        "%matplotlib widget\n",
        "\n",
        "plt.rcParams[\"figure.figsize\"] = (10, 6)\n",
        "\n",
        "import LinearAlgebra"
      ]
    },
    {
      "cell_type": "code",
      "execution_count": 3,
      "metadata": {
        "id": "F4xebxlABtwK"
      },
      "outputs": [],
      "source": [
        "x_begin = 0\n",
        "x_end = 1\n",
        "\n",
        "y_begin = 0\n",
        "y_end = 1\n",
        "\n",
        "h_x = 0.05\n",
        "h_y = 0.05"
      ]
    },
    {
      "cell_type": "markdown",
      "metadata": {
        "id": "lnW5Y_yXDRSh"
      },
      "source": [
        "Начальные условия:"
      ]
    },
    {
      "cell_type": "code",
      "execution_count": 4,
      "metadata": {
        "id": "yjtIrwlcDQ6M"
      },
      "outputs": [],
      "source": [
        "def phi_1(y):\n",
        "    return 0\n",
        "\n",
        "def phi_2(y):\n",
        "    return 1 - y**2\n",
        "\n",
        "def phi_3(x):\n",
        "    return 0\n",
        "\n",
        "def phi_4(x):\n",
        "    return x**2 - 1\n",
        "\n",
        "def solution(x, y):\n",
        "    return x**2 - y**2"
      ]
    },
    {
      "cell_type": "markdown",
      "metadata": {
        "id": "dnNH3lwKEFol"
      },
      "source": [
        "### Точное решение"
      ]
    },
    {
      "cell_type": "code",
      "execution_count": 5,
      "metadata": {},
      "outputs": [],
      "source": [
        "def get_analytical_solution(x_begin, x_end, y_begin, y_end, h_x, h_y):\n",
        "\n",
        "    x = np.arange(x_begin, x_end + h_x, h_x)\n",
        "    y = np.arange(y_begin, y_end + h_y, h_y)\n",
        "\n",
        "    u = np.zeros((x.size, y.size))\n",
        "    for i in range(x.size):\n",
        "        for j in range(y.size):\n",
        "            u[i, j] = solution(x[i], y[j])\n",
        "    \n",
        "    return u"
      ]
    },
    {
      "cell_type": "code",
      "execution_count": 6,
      "metadata": {},
      "outputs": [],
      "source": [
        "u_exact = get_analytical_solution(x_begin, x_end, y_begin, y_end, h_x, h_y)"
      ]
    },
    {
      "cell_type": "markdown",
      "metadata": {
        "id": "JCYF6F7sOJiL"
      },
      "source": [
        "### Конечно-разностная схема\n",
        "\n",
        "В исходном уравнении перейдем от производных к их численным приближениям. \n",
        "Получим соотношение:\n",
        "\n",
        "\n",
        "$$\n",
        "\\frac{u_{i+1,j} - 2 u_{i,j} + u_{i-1, j}}{h_1^2} + \\frac{u_{i, j+1} - 2 u_{i, j} + u_{i, j+1}}{h_2^2} = f(x_i, y_j) + O(h_1^2 + h_2^2) \\\\[6pt]\n",
        "$$\n",
        "\n",
        "$ h_1 = h_2:$\n",
        "$$\n",
        "u_{i, j} = \\frac{1}{4} \\Big( u_{i + 1, j} + u_{i - 1, j} + u_{i, j + 1} +  u_{i, j - 1} - h^2 \\, f_{i, j} \\Big) \\\\\n",
        "$$\n",
        "\n",
        "$ h_1 \\neq h_2:$\n",
        "$$\n",
        "u_{i,j} = \\frac{h_1^2}{2(h_1^2+h_2^2)} (u_{i,j+1} + u_{i, j-1}) +  \\frac{h_2^2}{2(h_1^2+h_2^2)}  (u_{i+1, j} + u_{i-1, j}) - h_1  h_2  \\, f_{i, j} \\\\[6pt]\n",
        "$$\n",
        "\n",
        "Записав такое соотношение для всех $i, \\, j $, получим систему уравнений. Решить ее можно итерационными способами.\n"
      ]
    },
    {
      "cell_type": "code",
      "execution_count": 7,
      "metadata": {},
      "outputs": [],
      "source": [
        "def linear_interpolation(x_begin, x_end, y_begin, y_end, h_x, h_y):\n",
        "\n",
        "    x = np.arange(x_begin, x_end + h_x, h_x)    \n",
        "    y = np.arange(y_begin, y_end + h_y, h_y)    \n",
        "\n",
        "    u = np.zeros((x.size, y.size))\n",
        "\n",
        "    eps = 0.1\n",
        "\n",
        "    for i in range(x.size):\n",
        "        for j in range(y.size):\n",
        "            u[i, j] = (phi_2(y[j]) * (1 - y[j]) / ((1 - x[i]) + (1 - y[j]) + eps)\n",
        "                       + phi_4(x[i]) * (1 - x[i]) / ((1 - x[i]) + (1 - y[j]) + eps))\n",
        "\n",
        "    return u"
      ]
    },
    {
      "cell_type": "code",
      "execution_count": 8,
      "metadata": {},
      "outputs": [],
      "source": [
        "def finite_difference_scheme(x_begin, x_end, y_begin, y_end, h_x, h_y, method, eps=1, c=0):\n",
        "    \n",
        "    x = np.arange(x_begin, x_end + h_x, h_x)    \n",
        "    y = np.arange(y_begin, y_end + h_y, h_y)    \n",
        "\n",
        "    u = np.zeros((x.size, y.size))\n",
        "\n",
        "    equations_n = (x.size - 2) * (y.size - 2)\n",
        "    A = np.zeros((equations_n, equations_n))\n",
        "    b = np.zeros((equations_n))\n",
        "\n",
        "    for k in range(equations_n):\n",
        "\n",
        "        # corner points\n",
        "\n",
        "        if k == 0:\n",
        "            A[k, k] = h_x**2 + h_y**2 - 2 * (h_x**2 + h_y**2)\n",
        "            A[k, k + 1] = h_x**2\n",
        "            A[k, k + (y.size - 2)] = h_y**2\n",
        "            continue\n",
        "\n",
        "        if k == (y.size - 3):\n",
        "            A[k, k] = h_y**2 - 2 * (h_x**2 + h_y**2)\n",
        "            A[k, k - 1] = h_x**2\n",
        "            A[k, k + (y.size - 2)] = h_y**2\n",
        "            b[k] = -h_x**2 * phi_4(x[k // (y.size - 2)])\n",
        "            continue\n",
        "\n",
        "        if k == equations_n - 1 - (y.size - 3):\n",
        "            A[k, k] = h_x**2 - 2 * (h_x**2 + h_y**2)\n",
        "            A[k, k + 1] = h_x**2\n",
        "            A[k, k - (y.size - 2)] = h_y**2\n",
        "            b[k] = -h_x**2 * phi_2(y[k % (y.size - 2)]) \n",
        "            continue\n",
        "\n",
        "        if k == equations_n - 1:\n",
        "            A[k, k] = - 2 * (h_x**2 + h_y**2)\n",
        "            A[k, k - 1] = h_x**2\n",
        "            A[k, k - (y.size - 2)] = h_y**2\n",
        "            b[k] = -h_y**2 * phi_2(y[k % (y.size - 2)]) - h_x**2 * phi_4(x[k // (y.size - 2)])\n",
        "            continue\n",
        "\n",
        "        # boundary points\n",
        "\n",
        "        if k <= (y.size - 3): \n",
        "            A[k, k] = h_y**2 - 2 * (h_x**2 + h_y**2)\n",
        "            A[k, k + 1] = h_x**2\n",
        "            A[k, k - 1] = h_x**2\n",
        "            A[k, k + (y.size - 2)] = h_y**2\n",
        "            continue\n",
        "\n",
        "        if k >= equations_n - (y.size - 2):\n",
        "            A[k, k] = -2 * (h_x**2 + h_y**2)\n",
        "            A[k, k + 1] = h_x**2\n",
        "            A[k, k - 1] = h_x**2\n",
        "            A[k, k - (y.size - 2)] = h_y**2\n",
        "            b[k] = -h_y**2 * phi_2(y[k % (y.size - 2)])\n",
        "            continue\n",
        "\n",
        "        if k % (y.size - 2) == 0:\n",
        "            A[k, k] = h_x**2 - 2 * (h_x**2 + h_y**2)\n",
        "            A[k, k + 1] = h_x**2\n",
        "            A[k, k - (y.size - 2)] = h_y**2\n",
        "            A[k, k + (y.size - 2)] = h_y**2\n",
        "            continue\n",
        "\n",
        "        if k % (y.size - 2) == (y.size - 3):\n",
        "            A[k, k] = -2 * (h_x**2 + h_y**2)\n",
        "            A[k, k - 1] = h_x**2\n",
        "            A[k, k - (y.size - 2)] = h_y**2\n",
        "            A[k, k + (y.size - 2)] = h_y**2\n",
        "            b[k] = -h_x**2 * phi_4(x[k // (y.size - 2)])\n",
        "            continue\n",
        "\n",
        "        # inner points\n",
        "\n",
        "        A[k, k] = -2 * (h_x**2 + h_y**2)\n",
        "        A[k, k + 1] = h_x**2\n",
        "        A[k, k - 1] = h_x**2\n",
        "        A[k, k - (y.size - 2)] = h_y**2\n",
        "        A[k, k + (y.size - 2)] = h_y**2\n",
        "\n",
        "    \n",
        "    u_0 = linear_interpolation(x_begin, x_end, y_begin, y_end, h_x, h_y)\n",
        "    u = np.copy(u_0)\n",
        "\n",
        "    #return u_0\n",
        "    \n",
        "    u_0_vector = u_0[1:-1, 1:-1].reshape(equations_n)\n",
        "\n",
        "    if method == np.linalg.solve:\n",
        "        u_vector = method(A, b)\n",
        "        k = 0\n",
        "    else: \n",
        "        if method == LinearAlgebra.simple_iterations_method:\n",
        "            u_vector, k = method(A, b, eps, u_0_vector, c)\n",
        "        else:\n",
        "            u_vector, k = method(A, b, eps, u_0_vector)\n",
        "\n",
        "    u[1:-1, 1:-1] = u_vector.reshape((x.size - 2, y.size - 2))\n",
        "    u[:, 0] = u[:, 1]\n",
        "    u[0, :] = u[1, :]\n",
        "    u[:, -1] = phi_4(x[:])\n",
        "    u[-1, :] = phi_2(y[:])\n",
        "\n",
        "    return u, k"
      ]
    },
    {
      "cell_type": "markdown",
      "metadata": {
        "id": "Ak6GYBG3-gCU"
      },
      "source": [
        "### Полученные результаты"
      ]
    },
    {
      "cell_type": "code",
      "execution_count": 9,
      "metadata": {},
      "outputs": [],
      "source": [
        "def plot_surface(u_exact, u):\n",
        "    x = np.arange(x_begin, x_end + h_x, h_x)\n",
        "    y = np.arange(y_begin, y_end + h_y, h_y)\n",
        "    x, y = np.meshgrid(x, y)\n",
        "\n",
        "    fig, ax = plt.subplots(subplot_kw={\"projection\": \"3d\"})\n",
        "    ax.set_ylabel('x')\n",
        "    ax.set_xlabel('y')\n",
        "    surf1 = ax.plot_surface(x, y, u_exact, color='red')\n",
        "    surf2 = ax.plot_surface(x, y, u)\n",
        "\n",
        "    ax.legend()\n",
        "    plt.show()"
      ]
    },
    {
      "cell_type": "code",
      "execution_count": 10,
      "metadata": {},
      "outputs": [],
      "source": [
        "u_exact = get_analytical_solution(x_begin, x_end, y_begin, y_end, h_x, h_y)"
      ]
    },
    {
      "cell_type": "code",
      "execution_count": 11,
      "metadata": {},
      "outputs": [],
      "source": [
        "method = np.linalg.solve\n",
        "\n",
        "u_np, k_np = finite_difference_scheme(x_begin, x_end, y_begin, y_end, h_x, h_y, method)"
      ]
    },
    {
      "cell_type": "code",
      "execution_count": 12,
      "metadata": {},
      "outputs": [],
      "source": [
        "method = LinearAlgebra.simple_iterations_method\n",
        "с = 0\n",
        "eps = 1e-3\n",
        "\n",
        "u_iterations, k_iterations = finite_difference_scheme(x_begin, x_end, y_begin, y_end, h_x, h_y, method, eps)"
      ]
    },
    {
      "cell_type": "code",
      "execution_count": 13,
      "metadata": {},
      "outputs": [],
      "source": [
        "#plot_surface(u_exact, u_iterations)"
      ]
    },
    {
      "cell_type": "code",
      "execution_count": 14,
      "metadata": {},
      "outputs": [],
      "source": [
        "method = LinearAlgebra.Seidel_method\n",
        "c = 0\n",
        "eps = 1e-3\n",
        "\n",
        "u_seidel, k_seidel = finite_difference_scheme(x_begin, x_end, y_begin, y_end, h_x, h_y, method, eps, c)"
      ]
    },
    {
      "cell_type": "code",
      "execution_count": 15,
      "metadata": {},
      "outputs": [],
      "source": [
        "#plot_surface(u_exact, u_seidel)"
      ]
    },
    {
      "cell_type": "code",
      "execution_count": 29,
      "metadata": {},
      "outputs": [],
      "source": [
        "method = LinearAlgebra.Seidel_method\n",
        "c = 0.3\n",
        "eps = 1e-3\n",
        "\n",
        "u_relaxation, k_relaxation = finite_difference_scheme(x_begin, x_end, y_begin, y_end, h_x, h_y, method, eps, c)"
      ]
    },
    {
      "cell_type": "code",
      "execution_count": 30,
      "metadata": {},
      "outputs": [],
      "source": [
        "#plot_surface(u_exact, u_relaxation)"
      ]
    },
    {
      "cell_type": "code",
      "execution_count": 31,
      "metadata": {},
      "outputs": [
        {
          "name": "stdout",
          "output_type": "stream",
          "text": [
            "Gauss method :\n",
            "max abs error = 0.05271889135652741\n",
            "mean abs error = 0.009450547481441456 \n",
            "\n",
            "Simple iterations method:\n",
            "max abs error = 0.05207443631664299\n",
            "mean abs error = 0.018799087264089073\n",
            "iterations = 41 \n",
            "\n",
            "Seidel method:\n",
            "max abs error = 0.052712763208379365\n",
            "mean abs error = 0.01312427377890672\n",
            "iterations = 35 \n",
            "\n",
            "Relaxation Method:\n",
            "max abs error = 0.052712763208379365\n",
            "mean abs error = 0.01312427377890672\n",
            "iterations = 35 \n",
            "\n"
          ]
        }
      ],
      "source": [
        "u_numerical = [u_iterations, u_seidel, u_relaxation]\n",
        "iterations = [k_iterations, k_seidel, k_relaxation]\n",
        "names = ['Simple iterations method', 'Seidel method', 'Relaxation Method']\n",
        "\n",
        "print(f'Gauss method :')\n",
        "print(f'max abs error = {np.max(abs(u_exact - u_np))}')\n",
        "print(f'mean abs error = {np.mean(abs(u_exact - u_np))} \\n')\n",
        "\n",
        "for u, iteration, name in zip(u_numerical, iterations, names):\n",
        "    print(f'{name}:')\n",
        "    print(f'max abs error = {np.max(abs(u_exact - u))}')\n",
        "    print(f'mean abs error = {np.mean(abs(u_exact - u))}')\n",
        "    print(f'iterations = {iteration} \\n')"
      ]
    },
    {
      "cell_type": "markdown",
      "metadata": {
        "id": "DBO6cS7D_b4Y"
      },
      "source": [
        "### Вывод\n",
        "\n",
        "В данной работе я научился решать краевые задачи для ДУ эллиптического типа с помощью конечно-разностной схемы.\n",
        "\n",
        "После применения конечно-разностной схемы мы получаем систему уравнений, которую можно решать несколькими методами. Я использовал:\n",
        "* метод простых итераций\n",
        "* метод Зейделя\n",
        "* метод верхних релаксаций"
      ]
    },
    {
      "cell_type": "markdown",
      "metadata": {},
      "source": []
    }
  ],
  "metadata": {
    "colab": {
      "provenance": []
    },
    "kernelspec": {
      "display_name": "Python 3.9.4 64-bit",
      "language": "python",
      "name": "python3"
    },
    "language_info": {
      "codemirror_mode": {
        "name": "ipython",
        "version": 3
      },
      "file_extension": ".py",
      "mimetype": "text/x-python",
      "name": "python",
      "nbconvert_exporter": "python",
      "pygments_lexer": "ipython3",
      "version": "3.11.1"
    },
    "vscode": {
      "interpreter": {
        "hash": "dd426dfed99da6cb3eeddada32cbe22393fcbce2a3b224045159bf9f02b27406"
      }
    }
  },
  "nbformat": 4,
  "nbformat_minor": 0
}
