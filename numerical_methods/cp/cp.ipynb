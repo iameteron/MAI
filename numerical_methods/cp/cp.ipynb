{
  "cells": [
    {
      "cell_type": "markdown",
      "metadata": {
        "id": "oVjuna0dcMQE"
      },
      "source": [
        "## Курсовая работа по дисциплине \"Численные Методы\"\n",
        "### Вычисление многократных интегралов с использованием метода Монте-Карло.\n",
        "Сорокин Никита, М8О-403Б-20"
      ]
    },
    {
      "cell_type": "code",
      "execution_count": 89,
      "metadata": {
        "id": "Pqe0YnP8VAU1"
      },
      "outputs": [],
      "source": [
        "import time\n",
        "import numpy as np\n",
        "from tqdm import tqdm\n",
        "\n",
        "import matplotlib.pyplot as plt\n",
        "import seaborn as sns\n",
        "\n",
        "sns.set()"
      ]
    },
    {
      "cell_type": "markdown",
      "metadata": {
        "id": "32PB-jjEcMQM"
      },
      "source": [
        "### Random number generator"
      ]
    },
    {
      "cell_type": "markdown",
      "metadata": {
        "id": "TeK_7SpIcMQM"
      },
      "source": [
        "a. Multiplicative linear congruental generator\n",
        "\n",
        "$$\n",
        "s_i = (a \\, s_{i - 1} + c) \\,\\, mod \\,\\, m\n",
        "$$"
      ]
    },
    {
      "cell_type": "code",
      "execution_count": 90,
      "metadata": {
        "id": "XTIrtOhNcMQN"
      },
      "outputs": [],
      "source": [
        "N = 10000\n",
        "s = np.zeros(N)"
      ]
    },
    {
      "cell_type": "code",
      "execution_count": 91,
      "metadata": {
        "id": "gAwdRdagjQ5B"
      },
      "outputs": [],
      "source": [
        "def MLCG(left=0, right=1, N=1):\n",
        "    a = 69069\n",
        "    c = 0\n",
        "    m = 2**32\n",
        "\n",
        "    s = np.zeros(N)\n",
        "    s[0] = int((time.time() % 1) * 10**16) % m\n",
        "\n",
        "    for i in range(1, N):\n",
        "        s[i] = (a * s[i - 1] + c) % m\n",
        "\n",
        "    s /= m\n",
        "\n",
        "    s = left + (right - left) * s\n",
        "\n",
        "    return s"
      ]
    },
    {
      "cell_type": "code",
      "execution_count": 92,
      "metadata": {
        "colab": {
          "base_uri": "https://localhost:8080/",
          "height": 544
        },
        "id": "2H19g0BSjwlZ",
        "outputId": "848763c3-1d9a-43b5-ad05-2d68bdd6af3e"
      },
      "outputs": [
        {
          "data": {
            "text/plain": [
              "(array([ 945.,  985., 1057., 1000., 1050.,  996.,  921., 1064., 1010.,\n",
              "         972.]),\n",
              " array([-1.99934025, -1.69945183, -1.3995634 , -1.09967497, -0.79978654,\n",
              "        -0.49989811, -0.20000968,  0.09987875,  0.39976718,  0.69965561,\n",
              "         0.99954404]),\n",
              " <BarContainer object of 10 artists>)"
            ]
          },
          "execution_count": 92,
          "metadata": {},
          "output_type": "execute_result"
        },
        {
          "data": {
            "image/png": "[encoded data removed]",
            "text/plain": [
              "<Figure size 640x480 with 1 Axes>"
            ]
          },
          "metadata": {},
          "output_type": "display_data"
        }
      ],
      "source": [
        "plt.hist(MLCG(-2, 1, 10000))"
      ]
    },
    {
      "cell_type": "markdown",
      "metadata": {
        "id": "edgCySgEvwN6"
      },
      "source": [
        "### Интегрирование методом Монте-Карло\n",
        "\n",
        "$$ I = \\int_G f(x)dx, $$\n",
        "\n",
        "Тогда,\n",
        "\n",
        "$$ \\hat{I} = V \\cdot \\overline{F_n} \\cdot \\hat{\\Omega} = \\frac{V}{N} \\sum_{i=1}^{n} F(\\overline{\\xi_i}) $$\n",
        "\n",
        "$$ \\Delta I = \\frac{V \\cdot t_\\beta \\cdot (S_1 \\sqrt{\\hat{\\omega}} + | \\overline{F_n}| S_2)}{\\sqrt{N}}$$\n"
      ]
    },
    {
      "cell_type": "code",
      "execution_count": 72,
      "metadata": {
        "id": "sJd4TcDjiiMn"
      },
      "outputs": [],
      "source": [
        "def MonteCarlo(f, cube, G, N, t_beta, large_numbers=False):\n",
        "\n",
        "    V = np.prod(cube[:, 1] - cube[:, 0])\n",
        "\n",
        "    if large_numbers == False:\n",
        "        V = np.prod(cube[:, 1] - cube[:, 0])\n",
        "\n",
        "    if large_numbers == True:\n",
        "        V = int(1)\n",
        "        for i in range(cube.shape[0]):\n",
        "            V *= int(cube[i, 1] - cube[i, 0])\n",
        "\n",
        "    xi = np.zeros((N, cube.shape[0]))\n",
        "    for i in range(cube.shape[0]):\n",
        "        #xi[:, i] = MLCG(0, 1, N)\n",
        "        xi[:, i] = np.random.random(N)\n",
        "\n",
        "    x = np.zeros((N, cube.shape[0]))\n",
        "    x = cube[:, 0] + (cube[:, 1] - cube[:, 0]) * xi\n",
        "\n",
        "    n = 0\n",
        "    F = np.zeros(N)\n",
        "    F2 = np.zeros(N)\n",
        "    for i in range(N):\n",
        "        if G(x[i, :]) == 1:\n",
        "            n += 1\n",
        "            F[i] = f(x[i, :])\n",
        "            F2[i] = f(x[i, :])**2\n",
        "\n",
        "    omega_hat = n / N\n",
        "    F_mean = np.sum(F) / n\n",
        "\n",
        "    I_hat = V * F_mean * omega_hat\n",
        "\n",
        "    S1 = np.sum(F2) / n - F_mean**2\n",
        "    S2 = omega_hat * (1 - omega_hat)\n",
        "\n",
        "    c = V * t_beta * (S1 * omega_hat**(0.5) + abs(F_mean) * S2)\n",
        "    I_del = c / (N**(0.5))\n",
        "\n",
        "    return I_hat, I_del, c"
      ]
    },
    {
      "cell_type": "markdown",
      "metadata": {
        "id": "vmqagPx2ic-G"
      },
      "source": [
        "### Пример 1: Вычисление числа $ \\pi $ (сравнение формул для гиперсфер)"
      ]
    },
    {
      "cell_type": "markdown",
      "metadata": {
        "id": "vlGB4JFYikBe"
      },
      "source": [
        "Рассмотрим функцию:\n",
        "\n",
        "$$ f(x, y) = 1, \\quad G = \\{(x, y): x^2 + y^2 <= 1 \\}$$\n",
        "\n",
        "А также множество:\n",
        "\n",
        "$$ G ⊂ G' = [-1, 1] \\times [-1, 1] \\, , \\quad V(G') = 4 $$\n",
        "\n",
        "Ясно, что:\n",
        "\n",
        "$$ I_\\pi = \\int_{G} f(x, y) dxdy = \\pi $$\n",
        "\n",
        "Пользуясь методом Монте Карло имеем:\n",
        "\n",
        "$$ Q_N = 4 \\frac{1}{N} \\sum_{i=1}^{n} f(x_i, y_i) \\rightarrow I_\\pi $$"
      ]
    },
    {
      "cell_type": "code",
      "execution_count": 73,
      "metadata": {
        "colab": {
          "base_uri": "https://localhost:8080/",
          "height": 452
        },
        "id": "TujuxCOFUoi9",
        "outputId": "90a4e569-81eb-45f3-b609-ca1ab42d83b5"
      },
      "outputs": [
        {
          "data": {
            "text/plain": [
              "[<matplotlib.lines.Line2D at 0x1c2f812b190>]"
            ]
          },
          "execution_count": 73,
          "metadata": {},
          "output_type": "execute_result"
        },
        {
          "data": {
            "image/png": "[encoded data removed]",
            "text/plain": [
              "<Figure size 600x600 with 1 Axes>"
            ]
          },
          "metadata": {},
          "output_type": "display_data"
        }
      ],
      "source": [
        "omega = np.array([[-1, 1], [-1, 1]])\n",
        "N = 500\n",
        "\n",
        "fig, axs = plt.subplots(figsize=(6, 6))\n",
        "\n",
        "points = np.array([np.random.uniform(omega[:, 0], omega[:, 1]) for i in range(N)])\n",
        "axs.scatter(points[:, 0], points[:, 1])\n",
        "\n",
        "t = np.linspace(0, 2 * np.pi, 100)\n",
        "axs.plot(np.cos(t), np.sin(t), c='r')"
      ]
    },
    {
      "cell_type": "code",
      "execution_count": 74,
      "metadata": {
        "id": "y1N3Mkl9V99A"
      },
      "outputs": [],
      "source": [
        "def f(x):\n",
        "    return 1\n",
        "\n",
        "cube = np.array([[-1, 1], [-1, 1]])\n",
        "\n",
        "def G(x):\n",
        "    return 1 if x[0]**2 + x[1]**2 <= 1 else 0\n",
        "\n",
        "t_beta=3"
      ]
    },
    {
      "cell_type": "code",
      "execution_count": 76,
      "metadata": {
        "colab": {
          "base_uri": "https://localhost:8080/"
        },
        "id": "bHtXy2x0o7-y",
        "outputId": "7e564737-45d9-4af8-c6ad-cd69b5b8ef19"
      },
      "outputs": [
        {
          "data": {
            "text/plain": [
              "(3.141572, 0.002022610026612)"
            ]
          },
          "execution_count": 76,
          "metadata": {},
          "output_type": "execute_result"
        }
      ],
      "source": [
        "N = 1000000\n",
        "I_hat, I_del, c = MonteCarlo(f=f, cube=cube, G=G, N=N, t_beta=t_beta)\n",
        "I_hat, I_del"
      ]
    },
    {
      "cell_type": "markdown",
      "metadata": {
        "id": "vTk2XSkOyGyV"
      },
      "source": [
        "### Пример 2: Интеграл от функции, не имеющей первообразной в классе элементарных функций\n",
        "\n",
        "$$ \\Phi(t) = \\frac{1}{\\sqrt{2 \\pi}} \\int_0^t e^{-\\frac{z}{2}}dz $$"
      ]
    },
    {
      "cell_type": "markdown",
      "metadata": {},
      "source": [
        "По таблице Лапласа:\n",
        "\n",
        "$ \\Phi(3) = 0.49865 $ "
      ]
    },
    {
      "cell_type": "code",
      "execution_count": null,
      "metadata": {
        "id": "kmbKqtL55o6V"
      },
      "outputs": [],
      "source": [
        "def f(x):\n",
        "    return np.exp(-x**2 / 2) / np.sqrt(2 * np.pi)\n",
        "\n",
        "cube = np.array([[0, 3]])\n",
        "\n",
        "def G(x):\n",
        "    return 1\n",
        "\n",
        "t_beta=3"
      ]
    },
    {
      "cell_type": "markdown",
      "metadata": {},
      "source": [
        "Монте Карло:"
      ]
    },
    {
      "cell_type": "code",
      "execution_count": 79,
      "metadata": {
        "colab": {
          "base_uri": "https://localhost:8080/"
        },
        "id": "lPL-KJxE5q21",
        "outputId": "78f59685-0303-4a2f-963c-68c934996653"
      },
      "outputs": [
        {
          "name": "stderr",
          "output_type": "stream",
          "text": [
            "C:\\Users\\никита\\AppData\\Local\\Temp\\ipykernel_5748\\2720741997.py:27: DeprecationWarning: Conversion of an array with ndim > 0 to a scalar is deprecated, and will error in future. Ensure you extract a single element from your array before performing this operation. (Deprecated NumPy 1.25.)\n",
            "  F[i] = f(x[i, :])\n",
            "C:\\Users\\никита\\AppData\\Local\\Temp\\ipykernel_5748\\2720741997.py:28: DeprecationWarning: Conversion of an array with ndim > 0 to a scalar is deprecated, and will error in future. Ensure you extract a single element from your array before performing this operation. (Deprecated NumPy 1.25.)\n",
            "  F2[i] = f(x[i, :])**2\n"
          ]
        },
        {
          "data": {
            "text/plain": [
              "(0.49861380415976214, 0.00017443981124996936)"
            ]
          },
          "execution_count": 79,
          "metadata": {},
          "output_type": "execute_result"
        }
      ],
      "source": [
        "N = 1000000\n",
        "I_hat, I_del, c = MonteCarlo(f=f, cube=cube, G=G, N=N, t_beta=t_beta)\n",
        "I_hat, I_del"
      ]
    },
    {
      "cell_type": "markdown",
      "metadata": {
        "id": "mtIaYWm-y7Ip"
      },
      "source": [
        "### Пример 3: Двойной интеграл\n",
        "\n",
        "Вычислим методом Монте-Карло интеграл\n",
        "\n",
        "$$ I = \\int_0^2 dx \\int_{x^2}^{2x} (x+y) dy $$\n",
        "\n",
        "Нетрудно показать аналитически, что\n",
        "\n",
        "$$ I = \\frac{52}{15} = 3.4(6) $$"
      ]
    },
    {
      "cell_type": "code",
      "execution_count": 18,
      "metadata": {
        "colab": {
          "base_uri": "https://localhost:8080/",
          "height": 452
        },
        "id": "9HmVgjay8G10",
        "outputId": "4e7e0e09-77ba-4e05-ef2f-d5d9af33a47f"
      },
      "outputs": [
        {
          "data": {
            "text/plain": [
              "<matplotlib.collections.PolyCollection at 0x1c2e84d4e90>"
            ]
          },
          "execution_count": 18,
          "metadata": {},
          "output_type": "execute_result"
        },
        {
          "data": {
            "image/png": "[encoded data removed]",
            "text/plain": [
              "<Figure size 640x480 with 1 Axes>"
            ]
          },
          "metadata": {},
          "output_type": "display_data"
        }
      ],
      "source": [
        "x = np.linspace(0, 2, 100)\n",
        "\n",
        "y1 = lambda x: x**2\n",
        "y2 = lambda x: 2 * x\n",
        "\n",
        "plt.fill_between(x, y1(x), y2(x))"
      ]
    },
    {
      "cell_type": "code",
      "execution_count": 81,
      "metadata": {
        "id": "FYF7nuCl5pQq"
      },
      "outputs": [],
      "source": [
        "def f(x):\n",
        "    return x[0] + x[1]\n",
        "\n",
        "cube = np.array([[0, 2], [0, 4]])\n",
        "\n",
        "def G(x):\n",
        "    return 1 if (x[1] <= 2 * x[0]) and (x[1] >= x[0]**2) else 0\n",
        "\n",
        "t_beta=3"
      ]
    },
    {
      "cell_type": "code",
      "execution_count": 86,
      "metadata": {
        "colab": {
          "base_uri": "https://localhost:8080/"
        },
        "id": "-_TMm5J35riD",
        "outputId": "5b861808-3cc6-4137-9908-b5086379dd50"
      },
      "outputs": [
        {
          "data": {
            "text/plain": [
              "(3.469136008805349, 0.008538222361741227)"
            ]
          },
          "execution_count": 86,
          "metadata": {},
          "output_type": "execute_result"
        }
      ],
      "source": [
        "N = 10000000\n",
        "I_hat, I_del, c = MonteCarlo(f=f, cube=cube, G=G, N=N, t_beta=t_beta)\n",
        "I_hat, I_del"
      ]
    },
    {
      "cell_type": "markdown",
      "metadata": {
        "id": "F9822Zkxy7Ld"
      },
      "source": [
        "### Пример 4: Тройной интеграл. Объем восьмой части шара\n",
        "\n",
        "Дан шар с центром в начале координат и радиусом R = 2. Вычислить методом Монте-Карло объем части шара, расположенной в первом октанте, т.е. вычислим тройной интеграл\n",
        "\n",
        "$$ V = \\int \\int \\int_G dx \\, dy \\, dz, $$\n",
        "\n",
        "где $ G = \\{(x, y, z): x^2 + y^2 + z^2 \\leq 4, \\, x \\geq 0, \\, y \\geq 0, \\, z \\geq 0 \\} $\n",
        "\n",
        "Аналитическое значение равно:\n",
        "\n",
        "$$ V = \\frac{1}{8} \\cdot \\frac{4 \\pi R^3}{3} = 4.18879020... $$"
      ]
    },
    {
      "cell_type": "code",
      "execution_count": 95,
      "metadata": {
        "id": "8OAOMe9S5pn6"
      },
      "outputs": [],
      "source": [
        "def f(x):\n",
        "    return 1\n",
        "\n",
        "cube = np.array([[-2, 2], [-2, 2], [-2, 2]])\n",
        "\n",
        "def G(x):\n",
        "    return 1 if (x[0]**2 + x[1]**2 + x[2]**2 <= 4) and (x[0] >= 0) and (x[1] >= 0) and (x[2] >= 0) else 0\n",
        "\n",
        "t_beta=3"
      ]
    },
    {
      "cell_type": "code",
      "execution_count": 96,
      "metadata": {
        "colab": {
          "base_uri": "https://localhost:8080/"
        },
        "id": "9DwwTEnP5sYj",
        "outputId": "87ad135f-8817-4c20-e160-b378b3172a3d"
      },
      "outputs": [
        {
          "data": {
            "text/plain": [
              "(4.193216, 0.011755442042687999)"
            ]
          },
          "execution_count": 96,
          "metadata": {},
          "output_type": "execute_result"
        }
      ],
      "source": [
        "N = 1000000\n",
        "I_hat, I_del, c = MonteCarlo(f=f, cube=cube, G=G, N=N, t_beta=t_beta)\n",
        "I_hat, I_del"
      ]
    },
    {
      "cell_type": "markdown",
      "metadata": {
        "id": "KSeJeKDdzdCd"
      },
      "source": [
        "### Пример 5: Шестикратные интегралы в задаче о взаимном притяжение двух материальных тел\n",
        "\n",
        "$$ F_x = G \\int \\int \\int \\, \\int \\int \\int_{D \\times D'} \\frac{\\rho(x,y,z) \\rho'(x',y',z')}{r^3} \\, (x-x') \\, dx \\, dy \\, dz \\, dx' dy' dz' $$\n",
        "\n",
        "$$ F = \\sqrt{F_x^{2} + F_y^{2} + F_z^{2}} $$"
      ]
    },
    {
      "cell_type": "code",
      "execution_count": 97,
      "metadata": {
        "id": "rd4PAb5MyHm6"
      },
      "outputs": [],
      "source": [
        "G_const = 6.67 * 1e-11\n",
        "\n",
        "m_earth = 6 * 10**24\n",
        "m_moon = 7.35 * 10**22\n",
        "\n",
        "r_const = 384467000\n",
        "\n",
        "rho_earth = 5520\n",
        "rho_moon = 3346\n",
        "\n",
        "R_earth = 6367000\n",
        "R_moon = 1737000\n",
        "\n",
        "def r(x):\n",
        "    return np.sqrt((x[0] - x[3])**2 + (x[1] - x[4])**2 + (x[2] - x[5])**2)\n",
        "\n",
        "def fx(x):\n",
        "    return G_const * rho_earth * rho_moon * (x[0] - x[3]) / r(x)**3\n",
        "\n",
        "def fy(x):\n",
        "    return G_const * rho_earth * rho_moon * (x[1] - x[4]) / r(x)**3\n",
        "\n",
        "def fz(x):\n",
        "    return G_const * rho_earth * rho_moon * (x[2] - x[5]) / r(x)**3\n",
        "\n",
        "def f(fx, fy, fz):\n",
        "    return np.sqrt(fx**2 + fy**2 + fz**2)\n",
        "\n",
        "cube = np.array([[-R_earth, R_earth], [-R_earth, R_earth], [-R_earth, R_earth],\n",
        "                 [r_const - R_moon, r_const + R_moon], [-R_moon, R_moon], [-R_moon, R_moon]])\n",
        "\n",
        "def G(x):\n",
        "    return 1 if ((x[0]**2 + x[1]**2 + x[2]**2 <= R_earth**2) and\n",
        "                 ((x[3] - r_const)**2 + x[4]**2 + x[5]**2 <= R_moon**2)) else 0\n",
        "\n",
        "t_beta=3"
      ]
    },
    {
      "cell_type": "code",
      "execution_count": 98,
      "metadata": {
        "id": "FDu9nUCcyHyk"
      },
      "outputs": [],
      "source": [
        "N = 1000000\n",
        "Fx, Fx_del, c = MonteCarlo(f=fx, cube=cube, G=G, N=N, t_beta=t_beta, large_numbers=True)\n",
        "Fy, Fy_del, c = MonteCarlo(f=fy, cube=cube, G=G, N=N, t_beta=t_beta, large_numbers=True)\n",
        "Fz, Fz_del, c = MonteCarlo(f=fz, cube=cube, G=G, N=N, t_beta=t_beta, large_numbers=True)"
      ]
    },
    {
      "cell_type": "code",
      "execution_count": 69,
      "metadata": {
        "colab": {
          "base_uri": "https://localhost:8080/"
        },
        "id": "cMb2yTWdyH8T",
        "outputId": "02476afb-76d0-4e74-beb5-e61a1336004c"
      },
      "outputs": [
        {
          "data": {
            "text/plain": [
              "1.9820578854942717e+20"
            ]
          },
          "execution_count": 69,
          "metadata": {},
          "output_type": "execute_result"
        }
      ],
      "source": [
        "f(Fx, Fy, Fz)"
      ]
    },
    {
      "cell_type": "code",
      "execution_count": 70,
      "metadata": {
        "colab": {
          "base_uri": "https://localhost:8080/"
        },
        "id": "f8GgYnUVhXV9",
        "outputId": "def3a421-b1f2-4134-d09b-430130642cbc"
      },
      "outputs": [
        {
          "data": {
            "text/plain": [
              "4.312700291312388e+17"
            ]
          },
          "execution_count": 70,
          "metadata": {},
          "output_type": "execute_result"
        }
      ],
      "source": [
        "f(Fx_del, Fy_del, Fz_del)"
      ]
    },
    {
      "cell_type": "markdown",
      "metadata": {},
      "source": [
        "Аналитически (но не точно):"
      ]
    },
    {
      "cell_type": "code",
      "execution_count": 71,
      "metadata": {
        "colab": {
          "base_uri": "https://localhost:8080/"
        },
        "id": "7kDR-wLcyIAO",
        "outputId": "2a97c19d-589c-45f5-d580-e54d27ca0e01"
      },
      "outputs": [
        {
          "data": {
            "text/plain": [
              "1.989968883800508e+20"
            ]
          },
          "execution_count": 71,
          "metadata": {},
          "output_type": "execute_result"
        }
      ],
      "source": [
        "F = G_const * m_earth * m_moon / r_const**2\n",
        "F"
      ]
    }
  ],
  "metadata": {
    "colab": {
      "collapsed_sections": [
        "vmqagPx2ic-G",
        "vTk2XSkOyGyV",
        "mtIaYWm-y7Ip",
        "F9822Zkxy7Ld",
        "H0USH6eWzPPU"
      ],
      "provenance": [],
      "toc_visible": true
    },
    "kernelspec": {
      "display_name": "Python 3",
      "language": "python",
      "name": "python3"
    },
    "language_info": {
      "codemirror_mode": {
        "name": "ipython",
        "version": 3
      },
      "file_extension": ".py",
      "mimetype": "text/x-python",
      "name": "python",
      "nbconvert_exporter": "python",
      "pygments_lexer": "ipython3",
      "version": "3.11.1"
    }
  },
  "nbformat": 4,
  "nbformat_minor": 0
}
