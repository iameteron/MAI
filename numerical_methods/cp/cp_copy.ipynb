{
  "cells": [
    {
      "cell_type": "markdown",
      "metadata": {
        "id": "oVjuna0dcMQE"
      },
      "source": [
        "## Курсовая работа по дисциплине \"Численные Методы\"\n",
        "### Вычисление многократных интегралов с использованием метода Монте-Карло.\n",
        "Сорокин Никита, М8О-403Б-20"
      ]
    },
    {
      "cell_type": "code",
      "execution_count": 40,
      "metadata": {
        "id": "Pqe0YnP8VAU1"
      },
      "outputs": [],
      "source": [
        "import time\n",
        "import numpy as np\n",
        "from tqdm import tqdm\n",
        "\n",
        "from scipy.special import gamma\n",
        "\n",
        "import matplotlib.pyplot as plt\n",
        "import seaborn as sns\n",
        "\n",
        "sns.set()"
      ]
    },
    {
      "cell_type": "markdown",
      "metadata": {},
      "source": [
        "### Интегрирование методом Монте-Карло"
      ]
    },
    {
      "cell_type": "markdown",
      "metadata": {
        "id": "edgCySgEvwN6"
      },
      "source": [
        "Рассмотрим\n",
        "\n",
        "$$ I = \\int_G f(x)dx, $$\n",
        "\n",
        "где $ G $ - замкнутая область.\n",
        "\n",
        "Пусть  \n",
        "\n",
        "$$ G \\subseteq [a_1, \\, b_1] \\times ... \\times [a_m, \\, b_m], $$\n",
        "\n",
        "Проведем замену: \n",
        "\n",
        "$$\n",
        "x \\rightarrow \\xi: \\quad x_k = a_k + (b_k - a_k) \\cdot \\xi_k, \\quad k = \\overline{1, m}\n",
        "$$\n",
        "\n",
        "Замена переменных в интеграле приводит к умножению на Якобиан:\n",
        "\n",
        "$$\n",
        "\\frac{D(x_1, ... x_m)}{D(\\xi_1, ... \\xi_m)} = \\prod_{k=1}^{m} (b_k - a_k) = V,\n",
        "$$\n",
        "\n",
        "Введем вспомогательный интеграл:\n",
        "\n",
        "$$\n",
        "J := \\int_{\\Omega} f(x(\\xi)) d \\xi, \\quad \\Omega \\subseteq [0, 1]^k, \\quad I = V \\cdot J\n",
        "$$\n",
        "\n",
        "Также вводим:\n",
        "\n",
        "$$\n",
        "F(\\xi) := f(x(\\xi))\n",
        "$$\n",
        "\n",
        "Берем равномерно распределенную случайную величину и определяем выборочное среднее для функции $ F(\\xi) $:\n",
        "\n",
        "$$\n",
        "\\xi \\sim U([0, 1]^m), \\quad \\overline{F_n} := \\frac{1}{n} \\sum_{i=1}^{n} F(\\xi_i)\n",
        "$$\n",
        "\n",
        "Отсюда получаем оценку интеграла $ J $:\n",
        "\n",
        "$$\n",
        "\\hat{J} := \\overline{F}_n \\cdot \\Omega\n",
        "$$\n",
        "\n",
        "Также воспользумся оценкой объема $ \\Omega $:\n",
        "\n",
        "$$\n",
        "\\hat{\\Omega} := \\frac{n}{N},\n",
        "$$\n",
        "\n",
        "где $ N $ - число сгенерированных точек, $ n $ - число точек, попавших в \n",
        "\n",
        "Таким образом, получаем оценку интеграла $ I $:\n",
        "\n",
        "$$\n",
        "\\hat{I} = V \\cdot \\overline{F}_n \\cdot \\hat{\\Omega} = \\frac{V}{N} \\sum_{i = 1}^{n} F(\\xi_i)\n",
        "$$\n"
      ]
    },
    {
      "cell_type": "markdown",
      "metadata": {},
      "source": [
        "Получим формулу для оценки погрешности интегрирования:\n",
        "\n",
        "$$\n",
        "\\Delta I = V \\cdot (\\Delta \\overline{F} \\cdot \\hat{\\Omega} + \\Delta \\Omega \\cdot |\\overline{F}_n|)\n",
        "$$\n",
        "\n",
        "Используя центральную предельную теорему и заменяя дисперсии на выборочные и выборочные несмещенные дисперсии получаем формулу вида:\n",
        "\n",
        "$$ \n",
        "\\Delta I = \\frac{V \\cdot t_\\beta \\cdot (S_1 \\sqrt{\\hat{\\omega}} + | \\overline{F_n}| S_2)}{\\sqrt{N}}\n",
        "$$"
      ]
    },
    {
      "cell_type": "markdown",
      "metadata": {},
      "source": [
        "Реализация функции подсчета оценки интеграла Монте-Карло:"
      ]
    },
    {
      "cell_type": "code",
      "execution_count": 2,
      "metadata": {
        "id": "sJd4TcDjiiMn"
      },
      "outputs": [],
      "source": [
        "def MonteCarlo(f, cube, G, N, t_beta, large_numbers=False):\n",
        "\n",
        "    V = np.prod(cube[:, 1] - cube[:, 0])\n",
        "\n",
        "    if large_numbers == False:\n",
        "        V = np.prod(cube[:, 1] - cube[:, 0])\n",
        "\n",
        "    if large_numbers == True:\n",
        "        V = int(1)\n",
        "        for i in range(cube.shape[0]):\n",
        "            V *= int(cube[i, 1] - cube[i, 0])\n",
        "\n",
        "    xi = np.zeros((N, cube.shape[0]))\n",
        "    for i in range(cube.shape[0]):\n",
        "        xi[:, i] = np.random.random(N)\n",
        "\n",
        "    x = np.zeros((N, cube.shape[0]))\n",
        "    x = cube[:, 0] + (cube[:, 1] - cube[:, 0]) * xi\n",
        "\n",
        "    n = 0\n",
        "    F = np.zeros(N)\n",
        "    F2 = np.zeros(N)\n",
        "    for i in range(N):\n",
        "        if G(x[i, :]) == 1:\n",
        "            n += 1\n",
        "            F[i] = f(x[i, :])\n",
        "            F2[i] = f(x[i, :])**2\n",
        "\n",
        "    omega_hat = n / N\n",
        "    F_mean = np.sum(F) / n\n",
        "\n",
        "    I_hat = V * F_mean * omega_hat\n",
        "\n",
        "    S1 = np.sum(F2) / n - F_mean**2\n",
        "    S2 = omega_hat * (1 - omega_hat)\n",
        "\n",
        "    c = V * t_beta * (S1 * omega_hat**(0.5) + abs(F_mean) * S2)\n",
        "    I_del = c / (N**(0.5))\n",
        "\n",
        "    return I_hat, I_del, c"
      ]
    },
    {
      "cell_type": "markdown",
      "metadata": {
        "id": "vmqagPx2ic-G"
      },
      "source": [
        "### Пример 1: Вычисление числа $ \\pi $ с помощью гиперсфер разной размерности"
      ]
    },
    {
      "cell_type": "markdown",
      "metadata": {
        "id": "vlGB4JFYikBe"
      },
      "source": [
        "Известно, что объем гиперсферы размерности $ n - 1 $ в пространстве размерности $ n $ можно найти по формуле:\n",
        "\n",
        "$$\n",
        "V_n = \\frac{\\pi^{\\frac{n}{2}}}{\\Gamma(\\frac{n}{2} + 1)} \\cdot R^n\n",
        "$$\n",
        "\n",
        "Выразим $ \\pi $:\n",
        "\n",
        "$$\n",
        "\\pi = \\left( \\frac{V_n \\cdot \\Gamma(\\frac{n}{2} + 1)}{R^n} \\right)^{2/n}\n",
        "$$"
      ]
    },
    {
      "cell_type": "markdown",
      "metadata": {},
      "source": [
        "Чтобы оценить это выражение будем искать $ V_n $ как интеграл вида:\n",
        "\n",
        "$$\n",
        "V_n = \\int_{B_n} dx, \\quad B_n = \\{ x: |x| \\leq R \\}\n",
        "$$\n",
        "\n",
        "А уже сам интеграл будем искать оценкой монте карло, причем положим $ R = 1 $."
      ]
    },
    {
      "cell_type": "markdown",
      "metadata": {},
      "source": [
        "Визуализация в $ \\mathbb{R}^2 $:"
      ]
    },
    {
      "cell_type": "code",
      "execution_count": 23,
      "metadata": {
        "colab": {
          "base_uri": "https://localhost:8080/",
          "height": 452
        },
        "id": "TujuxCOFUoi9",
        "outputId": "90a4e569-81eb-45f3-b609-ca1ab42d83b5"
      },
      "outputs": [
        {
          "data": {
            "text/plain": [
              "[<matplotlib.lines.Line2D at 0x1e122906310>]"
            ]
          },
          "execution_count": 23,
          "metadata": {},
          "output_type": "execute_result"
        },
        {
          "data": {
            "image/png": "[encoded data removed]",
            "text/plain": [
              "<Figure size 600x600 with 1 Axes>"
            ]
          },
          "metadata": {},
          "output_type": "display_data"
        }
      ],
      "source": [
        "omega = np.array([[-1, 1], [-1, 1]])\n",
        "N = 500\n",
        "\n",
        "fig, axs = plt.subplots(figsize=(6, 6))\n",
        "\n",
        "points = np.array([np.random.uniform(omega[:, 0], omega[:, 1]) for i in range(N)])\n",
        "axs.scatter(points[:, 0], points[:, 1])\n",
        "\n",
        "t = np.linspace(0, 2 * np.pi, 100)\n",
        "axs.plot(np.cos(t), np.sin(t), c='r')"
      ]
    },
    {
      "cell_type": "code",
      "execution_count": 41,
      "metadata": {},
      "outputs": [],
      "source": [
        "def f(x):\n",
        "    return 1\n",
        "\n",
        "def get_cube(n):\n",
        "    return np.array([[-1, 1] for i in range(n)])\n",
        "\n",
        "def G(x):\n",
        "    return 1 if np.linalg.norm(x) <= 1 else 0\n",
        "\n",
        "t_beta=3\n",
        "\n",
        "def pi_estimate(V, n):\n",
        "    return (V * gamma(n / 2 + 1))**(2 / n)"
      ]
    },
    {
      "cell_type": "markdown",
      "metadata": {},
      "source": [
        "$ \\mathbb{R}^2 $:"
      ]
    },
    {
      "cell_type": "code",
      "execution_count": 72,
      "metadata": {
        "colab": {
          "base_uri": "https://localhost:8080/"
        },
        "id": "bHtXy2x0o7-y",
        "outputId": "7e564737-45d9-4af8-c6ad-cd69b5b8ef19"
      },
      "outputs": [],
      "source": [
        "N = 10**6\n",
        "n = 2\n",
        "I_hat, I_del, c = MonteCarlo(f=f, cube=get_cube(n), G=G, N=N, t_beta=t_beta)"
      ]
    },
    {
      "cell_type": "code",
      "execution_count": 73,
      "metadata": {},
      "outputs": [
        {
          "name": "stdout",
          "output_type": "stream",
          "text": [
            "pi estimate in R^2: 3.139424\n",
            "pi estimate error: 0.002026284711168\n"
          ]
        }
      ],
      "source": [
        "print(f'pi estimate in R^2: {pi_estimate(I_hat, n)}')\n",
        "print(f'pi estimate error: {I_del}')"
      ]
    },
    {
      "cell_type": "markdown",
      "metadata": {},
      "source": [
        "$ \\mathbb{R}^3 $:"
      ]
    },
    {
      "cell_type": "code",
      "execution_count": 74,
      "metadata": {},
      "outputs": [],
      "source": [
        "N = 10**6\n",
        "n = 3\n",
        "I_hat, I_del, c = MonteCarlo(f=f, cube=get_cube(n), G=G, N=N, t_beta=t_beta)"
      ]
    },
    {
      "cell_type": "code",
      "execution_count": 75,
      "metadata": {},
      "outputs": [
        {
          "name": "stdout",
          "output_type": "stream",
          "text": [
            "pi estimate in R^3: 3.1421655250815177\n",
            "pi estimate error: 0.005986471618464\n"
          ]
        }
      ],
      "source": [
        "print(f'pi estimate in R^3: {pi_estimate(I_hat, n)}')\n",
        "print(f'pi estimate error: {I_del}')"
      ]
    },
    {
      "cell_type": "markdown",
      "metadata": {},
      "source": [
        "$ \\mathbb{R}^4 $:"
      ]
    },
    {
      "cell_type": "code",
      "execution_count": 76,
      "metadata": {},
      "outputs": [],
      "source": [
        "N = 10**6\n",
        "n = 4\n",
        "I_hat, I_del, c = MonteCarlo(f=f, cube=get_cube(n), G=G, N=N, t_beta=t_beta)"
      ]
    },
    {
      "cell_type": "code",
      "execution_count": 77,
      "metadata": {},
      "outputs": [
        {
          "name": "stdout",
          "output_type": "stream",
          "text": [
            "pi estimate in R^4: 3.1440101781005736\n",
            "pi estimate error: 0.010247077920000002\n"
          ]
        }
      ],
      "source": [
        "print(f'pi estimate in R^4: {pi_estimate(I_hat, n)}')\n",
        "print(f'pi estimate error: {I_del}')"
      ]
    },
    {
      "cell_type": "markdown",
      "metadata": {},
      "source": [
        "$ \\mathbb{R}^{100} $:"
      ]
    },
    {
      "cell_type": "code",
      "execution_count": 78,
      "metadata": {},
      "outputs": [],
      "source": [
        "N = 10**6\n",
        "n = 10\n",
        "I_hat, I_del, c = MonteCarlo(f=f, cube=get_cube(n), G=G, N=N, t_beta=t_beta)"
      ]
    },
    {
      "cell_type": "code",
      "execution_count": 79,
      "metadata": {},
      "outputs": [
        {
          "name": "stdout",
          "output_type": "stream",
          "text": [
            "pi estimate in R^4: 3.1455200216326666\n",
            "pi estimate error: 0.007679139729408\n"
          ]
        }
      ],
      "source": [
        "print(f'pi estimate in R^4: {pi_estimate(I_hat, n)}')\n",
        "print(f'pi estimate error: {I_del}')"
      ]
    },
    {
      "cell_type": "markdown",
      "metadata": {
        "id": "vTk2XSkOyGyV"
      },
      "source": [
        "### Пример 2: Интеграл от функции, не имеющей первообразной в классе элементарных функций\n",
        "\n",
        "$$ \\Phi(t) = \\frac{1}{\\sqrt{2 \\pi}} \\int_0^t e^{-\\frac{z}{2}}dz $$"
      ]
    },
    {
      "cell_type": "markdown",
      "metadata": {},
      "source": [
        "По таблице Лапласа:\n",
        "\n",
        "$ \\Phi(3) = 0.49865 $ "
      ]
    },
    {
      "cell_type": "code",
      "execution_count": 80,
      "metadata": {
        "id": "kmbKqtL55o6V"
      },
      "outputs": [],
      "source": [
        "def f(x):\n",
        "    return np.exp(-x**2 / 2) / np.sqrt(2 * np.pi)\n",
        "\n",
        "cube = np.array([[0, 3]])\n",
        "\n",
        "def G(x):\n",
        "    return 1\n",
        "\n",
        "t_beta=3"
      ]
    },
    {
      "cell_type": "markdown",
      "metadata": {},
      "source": [
        "Монте Карло:"
      ]
    },
    {
      "cell_type": "code",
      "execution_count": null,
      "metadata": {
        "colab": {
          "base_uri": "https://localhost:8080/"
        },
        "id": "lPL-KJxE5q21",
        "outputId": "78f59685-0303-4a2f-963c-68c934996653"
      },
      "outputs": [],
      "source": [
        "N = 10**6\n",
        "I_hat, I_del, c = MonteCarlo(f=f, cube=cube, G=G, N=N, t_beta=t_beta)"
      ]
    },
    {
      "cell_type": "code",
      "execution_count": 82,
      "metadata": {},
      "outputs": [
        {
          "name": "stdout",
          "output_type": "stream",
          "text": [
            "Monte Carlo estimate: 0.49921483156120194\n",
            "Monte Carlo error: 0.0001744773716132848\n"
          ]
        }
      ],
      "source": [
        "print(f'Monte Carlo estimate: {I_hat}')\n",
        "print(f'Monte Carlo error: {I_del}')"
      ]
    },
    {
      "cell_type": "markdown",
      "metadata": {
        "id": "mtIaYWm-y7Ip"
      },
      "source": [
        "### Пример 3: Двойной интеграл\n",
        "\n",
        "Вычислим методом Монте-Карло интеграл\n",
        "\n",
        "$$ I = \\int_0^2 dx \\int_{x^2}^{2x} (x+y) dy $$\n",
        "\n",
        "Нетрудно показать аналитически, что\n",
        "\n",
        "$$ I = \\frac{52}{15} = 3.4(6) $$"
      ]
    },
    {
      "cell_type": "markdown",
      "metadata": {},
      "source": [
        "Область интегрирования:"
      ]
    },
    {
      "cell_type": "code",
      "execution_count": 83,
      "metadata": {
        "colab": {
          "base_uri": "https://localhost:8080/",
          "height": 452
        },
        "id": "9HmVgjay8G10",
        "outputId": "4e7e0e09-77ba-4e05-ef2f-d5d9af33a47f"
      },
      "outputs": [
        {
          "data": {
            "text/plain": [
              "<matplotlib.collections.PolyCollection at 0x1e1227934d0>"
            ]
          },
          "execution_count": 83,
          "metadata": {},
          "output_type": "execute_result"
        },
        {
          "data": {
            "image/png": "[encoded data removed]",
            "text/plain": [
              "<Figure size 640x480 with 1 Axes>"
            ]
          },
          "metadata": {},
          "output_type": "display_data"
        }
      ],
      "source": [
        "x = np.linspace(0, 2, 100)\n",
        "\n",
        "y1 = lambda x: x**2\n",
        "y2 = lambda x: 2 * x\n",
        "\n",
        "plt.fill_between(x, y1(x), y2(x))"
      ]
    },
    {
      "cell_type": "code",
      "execution_count": 84,
      "metadata": {
        "id": "FYF7nuCl5pQq"
      },
      "outputs": [],
      "source": [
        "def f(x):\n",
        "    return x[0] + x[1]\n",
        "\n",
        "cube = np.array([[0, 2], [0, 4]])\n",
        "\n",
        "def G(x):\n",
        "    return 1 if (x[1] <= 2 * x[0]) and (x[1] >= x[0]**2) else 0\n",
        "\n",
        "t_beta=3"
      ]
    },
    {
      "cell_type": "code",
      "execution_count": 86,
      "metadata": {
        "colab": {
          "base_uri": "https://localhost:8080/"
        },
        "id": "-_TMm5J35riD",
        "outputId": "5b861808-3cc6-4137-9908-b5086379dd50"
      },
      "outputs": [],
      "source": [
        "N = 10**6\n",
        "I_hat, I_del, c = MonteCarlo(f=f, cube=cube, G=G, N=N, t_beta=t_beta)"
      ]
    },
    {
      "cell_type": "code",
      "execution_count": 87,
      "metadata": {},
      "outputs": [
        {
          "name": "stdout",
          "output_type": "stream",
          "text": [
            "Monte Carlo estimate: 3.463283471777522\n",
            "Monte Carlo error: 0.027015317959454683\n"
          ]
        }
      ],
      "source": [
        "print(f'Monte Carlo estimate: {I_hat}')\n",
        "print(f'Monte Carlo error: {I_del}')"
      ]
    },
    {
      "cell_type": "markdown",
      "metadata": {
        "id": "F9822Zkxy7Ld"
      },
      "source": [
        "### Пример 4: Тройной интеграл. Объем восьмой части шара\n",
        "\n",
        "Дан шар с центром в начале координат и радиусом R = 2. Вычислить методом Монте-Карло объем части шара, расположенной в первом октанте, т.е. вычислим тройной интеграл\n",
        "\n",
        "$$ V = \\int \\int \\int_G dx \\, dy \\, dz, $$\n",
        "\n",
        "где $ G = \\{(x, y, z): x^2 + y^2 + z^2 \\leq 4, \\, x \\geq 0, \\, y \\geq 0, \\, z \\geq 0 \\} $\n",
        "\n",
        "Аналитическое значение равно:\n",
        "\n",
        "$$ V = \\frac{1}{8} \\cdot \\frac{4 \\pi R^3}{3} = 4.18879020... $$"
      ]
    },
    {
      "cell_type": "code",
      "execution_count": 88,
      "metadata": {
        "id": "8OAOMe9S5pn6"
      },
      "outputs": [],
      "source": [
        "def f(x):\n",
        "    return 1\n",
        "\n",
        "cube = np.array([[-2, 2], [-2, 2], [-2, 2]])\n",
        "\n",
        "def G(x):\n",
        "    return 1 if (x[0]**2 + x[1]**2 + x[2]**2 <= 4) and (x[0] >= 0) and (x[1] >= 0) and (x[2] >= 0) else 0\n",
        "\n",
        "t_beta=3"
      ]
    },
    {
      "cell_type": "code",
      "execution_count": 89,
      "metadata": {
        "colab": {
          "base_uri": "https://localhost:8080/"
        },
        "id": "9DwwTEnP5sYj",
        "outputId": "87ad135f-8817-4c20-e160-b378b3172a3d"
      },
      "outputs": [],
      "source": [
        "N = 10**6\n",
        "I_hat, I_del, c = MonteCarlo(f=f, cube=cube, G=G, N=N, t_beta=t_beta)"
      ]
    },
    {
      "cell_type": "code",
      "execution_count": 90,
      "metadata": {},
      "outputs": [
        {
          "name": "stdout",
          "output_type": "stream",
          "text": [
            "Monte Carlo estimate: 4.191808\n",
            "Monte Carlo error: 0.011751771454272\n"
          ]
        }
      ],
      "source": [
        "print(f'Monte Carlo estimate: {I_hat}')\n",
        "print(f'Monte Carlo error: {I_del}')"
      ]
    },
    {
      "cell_type": "markdown",
      "metadata": {},
      "source": [
        "### Пример 5: Шестикратные интегралы в задаче о взаимном притяжение двух материальных тел"
      ]
    },
    {
      "cell_type": "markdown",
      "metadata": {
        "id": "KSeJeKDdzdCd"
      },
      "source": [
        "Формула для силы взаимного притяжения двух материальных тел конечных размеров.\n",
        "\n",
        "\n",
        "\n",
        "$$ F_x = G \\iint \\iint \\limits_{D \\times D'} \\iint \\frac{\\rho(x,y,z) \\rho'(x',y',z')}{r^3} \\, (x-x') \\, dx \\, dy \\, dz \\, dx' dy' dz' $$\n",
        "\n",
        "$$ F_y = G \\iint \\iint \\limits_{D \\times D'} \\iint \\frac{\\rho(x,y,z) \\rho'(x',y',z')}{r^3} \\, (y-y') \\, dx \\, dy \\, dz \\, dx' dy' dz' $$\n",
        "\n",
        "$$ F_z = G \\iint \\iint \\limits_{D \\times D'} \\iint \\frac{\\rho(x,y,z) \\rho'(x',y',z')}{r^3} \\, (z-z') \\, dx \\, dy \\, dz \\, dx' dy' dz' $$\n",
        "\n",
        "$$ F = \\sqrt{F_x^{2} + F_y^{2} + F_z^{2}} $$\n",
        "\n",
        "Используем данную модель для вычисления силы взаимного притяжения Луны и Земли. Для простоты предположим, что плотности Земли и Луны не зависят от координат и возьмем их средние значения."
      ]
    },
    {
      "cell_type": "code",
      "execution_count": 91,
      "metadata": {
        "id": "rd4PAb5MyHm6"
      },
      "outputs": [],
      "source": [
        "G_const = 6.67 * 1e-11\n",
        "\n",
        "m_earth = 6 * 10**24\n",
        "m_moon = 7.35 * 10**22\n",
        "\n",
        "r_const = 384467000\n",
        "\n",
        "rho_earth = 5520\n",
        "rho_moon = 3346\n",
        "\n",
        "R_earth = 6367000\n",
        "R_moon = 1737000\n",
        "\n",
        "def r(x):\n",
        "    return np.sqrt((x[0] - x[3])**2 + (x[1] - x[4])**2 + (x[2] - x[5])**2)\n",
        "\n",
        "def fx(x):\n",
        "    return G_const * rho_earth * rho_moon * (x[0] - x[3]) / r(x)**3\n",
        "\n",
        "def fy(x):\n",
        "    return G_const * rho_earth * rho_moon * (x[1] - x[4]) / r(x)**3\n",
        "\n",
        "def fz(x):\n",
        "    return G_const * rho_earth * rho_moon * (x[2] - x[5]) / r(x)**3\n",
        "\n",
        "def f(fx, fy, fz):\n",
        "    return np.sqrt(fx**2 + fy**2 + fz**2)\n",
        "\n",
        "cube = np.array([[-R_earth, R_earth], [-R_earth, R_earth], [-R_earth, R_earth],\n",
        "                 [r_const - R_moon, r_const + R_moon], [-R_moon, R_moon], [-R_moon, R_moon]])\n",
        "\n",
        "def G(x):\n",
        "    return 1 if ((x[0]**2 + x[1]**2 + x[2]**2 <= R_earth**2) and\n",
        "                 ((x[3] - r_const)**2 + x[4]**2 + x[5]**2 <= R_moon**2)) else 0\n",
        "\n",
        "t_beta=3"
      ]
    },
    {
      "cell_type": "code",
      "execution_count": 97,
      "metadata": {
        "id": "FDu9nUCcyHyk"
      },
      "outputs": [],
      "source": [
        "N = 10**6\n",
        "Fx, Fx_del, c = MonteCarlo(f=fx, cube=cube, G=G, N=N, t_beta=t_beta, large_numbers=True)\n",
        "Fy, Fy_del, c = MonteCarlo(f=fy, cube=cube, G=G, N=N, t_beta=t_beta, large_numbers=True)\n",
        "Fz, Fz_del, c = MonteCarlo(f=fz, cube=cube, G=G, N=N, t_beta=t_beta, large_numbers=True)"
      ]
    },
    {
      "cell_type": "code",
      "execution_count": 98,
      "metadata": {
        "colab": {
          "base_uri": "https://localhost:8080/"
        },
        "id": "cMb2yTWdyH8T",
        "outputId": "02476afb-76d0-4e74-beb5-e61a1336004c"
      },
      "outputs": [
        {
          "name": "stdout",
          "output_type": "stream",
          "text": [
            "Monte Carlo estimate: 1.978554236744114e+20\n",
            "Monte Carlo error: 4.3080030888205715e+17\n"
          ]
        }
      ],
      "source": [
        "print(f'Monte Carlo estimate: {f(Fx, Fy, Fz)}')\n",
        "print(f'Monte Carlo error: {f(Fx_del, Fy_del, Fz_del)}')"
      ]
    },
    {
      "cell_type": "markdown",
      "metadata": {},
      "source": [
        "Принято использовать значение рассчитанное с допущением о том, что Земля и Луна являются материальными точками:\n",
        "\n",
        "$$\n",
        "F = \\frac{G \\cdot m_1 \\cdot m_2}{r^2}\n",
        "$$"
      ]
    },
    {
      "cell_type": "markdown",
      "metadata": {},
      "source": [
        "Численное значение:"
      ]
    },
    {
      "cell_type": "code",
      "execution_count": 99,
      "metadata": {
        "colab": {
          "base_uri": "https://localhost:8080/"
        },
        "id": "7kDR-wLcyIAO",
        "outputId": "2a97c19d-589c-45f5-d580-e54d27ca0e01"
      },
      "outputs": [
        {
          "name": "stdout",
          "output_type": "stream",
          "text": [
            "Analitical estimate: 1.989968883800508e+20\n"
          ]
        }
      ],
      "source": [
        "F = G_const * m_earth * m_moon / r_const**2\n",
        "print(f'Analitical estimate: {F}')"
      ]
    },
    {
      "cell_type": "markdown",
      "metadata": {},
      "source": [
        "### Вывод:\n",
        "\n",
        "В ходе выполнения курсовой работы был реализован метод Монте Карло для интегрирования. Метод был опробован на многих примерах особый интерес представляет последний пример, который позволяет при должном желании повышать точность рассчета таких физических величин как сила взаимного притяжения небесных тел. Данный метод принято принимать, когда затруднительным местом в вычислениях становится размерность разбиваемого на сетку пространства (curse of dimensionality)."
      ]
    }
  ],
  "metadata": {
    "colab": {
      "collapsed_sections": [
        "vmqagPx2ic-G",
        "vTk2XSkOyGyV",
        "mtIaYWm-y7Ip",
        "F9822Zkxy7Ld",
        "H0USH6eWzPPU"
      ],
      "provenance": [],
      "toc_visible": true
    },
    "kernelspec": {
      "display_name": "Python 3",
      "language": "python",
      "name": "python3"
    },
    "language_info": {
      "codemirror_mode": {
        "name": "ipython",
        "version": 3
      },
      "file_extension": ".py",
      "mimetype": "text/x-python",
      "name": "python",
      "nbconvert_exporter": "python",
      "pygments_lexer": "ipython3",
      "version": "3.11.1"
    }
  },
  "nbformat": 4,
  "nbformat_minor": 0
}
